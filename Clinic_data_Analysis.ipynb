{
  "nbformat": 4,
  "nbformat_minor": 0,
  "metadata": {
    "colab": {
      "name": "Clinic data Analysis.ipynb",
      "provenance": []
    },
    "kernelspec": {
      "name": "python3",
      "display_name": "Python 3"
    },
    "language_info": {
      "name": "python"
    }
  },
  "cells": [
    {
      "cell_type": "code",
      "execution_count": 166,
      "metadata": {
        "id": "0TG_x7-gAdqr"
      },
      "outputs": [],
      "source": [
        "import pandas as pd"
      ]
    },
    {
      "cell_type": "code",
      "source": [
        "data=pd.read_excel('/content/Clinical data analysis.xlsx',skiprows=1)\n",
        "data"
      ],
      "metadata": {
        "colab": {
          "base_uri": "https://localhost:8080/",
          "height": 607
        },
        "id": "DDkHoqWGK4Dr",
        "outputId": "5bb15618-a636-4872-af54-ca15da3ba0ae"
      },
      "execution_count": 167,
      "outputs": [
        {
          "output_type": "stream",
          "name": "stderr",
          "text": [
            "/usr/local/lib/python3.7/dist-packages/openpyxl/worksheet/_reader.py:211: UserWarning: Cell B14 is marked as a date but the serial value 16032022 is outside the limits for dates. The cell will be treated as an error.\n",
            "  warn(msg)\n"
          ]
        },
        {
          "output_type": "execute_result",
          "data": {
            "text/plain": [
              "    Duration       Date  Gender  Height  Weight  Pulse  Maxpulse  Calories  \\\n",
              "0         60 2022-03-16    Male   174.0    96.0    104       132     379.3   \n",
              "1         60 2022-03-16  Female   189.0    87.0     98       123     275.0   \n",
              "2         60 2022-03-16  Female   185.0   110.0     98       120     215.2   \n",
              "3        500 2022-03-16    Male   195.0   104.0    100       120     300.0   \n",
              "4         60 2022-03-16    Male   149.0    61.0     90       112       NaN   \n",
              "5         60 2022-03-16    Male   189.0   104.0    103       123     323.0   \n",
              "6         60 2022-03-16    Male   147.0     NaN     97       125     243.0   \n",
              "7         60 2022-03-16    Male     NaN   101.0    108       131     364.2   \n",
              "8         45 2022-03-16  Female   174.0    90.0    100       119     282.0   \n",
              "9         50 2022-03-16    Male   169.0     NaN    130       101     300.0   \n",
              "10       450 2022-03-16  Female     NaN    81.0    105       132     246.0   \n",
              "11        60        NaT  Female   159.0    80.0    102       126     334.5   \n",
              "12       450 2022-03-16    Male   192.0    91.0    100       120     250.0   \n",
              "13        45 2022-03-16    Male   155.0    51.0     92       118     241.0   \n",
              "14        50 2022-03-16  Gender   191.0    79.0    103       132       NaN   \n",
              "15        60 2022-03-16    Male   153.0    70.0     97       132     280.0   \n",
              "\n",
              "           Name Doctor  \n",
              "0   Christy, Catherine  \n",
              "1    Mukund, Catherine  \n",
              "2   Aswathy, Catherine  \n",
              "3      Phil, Catherine  \n",
              "4     Vince, Catherine  \n",
              "5        Akshaya, Jony  \n",
              "6           Ajay, Jony  \n",
              "7            Jay, Jony  \n",
              "8     Shyam, Catherine  \n",
              "9      Neha, Catherine  \n",
              "10    Mehru, Catherine  \n",
              "11     Dipa, Catherine  \n",
              "12           Jim, Jony  \n",
              "13    Divya, Catherine  \n",
              "14     Liya, Catherine  \n",
              "15          Jack, Jony  "
            ],
            "text/html": [
              "\n",
              "  <div id=\"df-46d71150-d472-4177-bccd-35d7af683ef8\">\n",
              "    <div class=\"colab-df-container\">\n",
              "      <div>\n",
              "<style scoped>\n",
              "    .dataframe tbody tr th:only-of-type {\n",
              "        vertical-align: middle;\n",
              "    }\n",
              "\n",
              "    .dataframe tbody tr th {\n",
              "        vertical-align: top;\n",
              "    }\n",
              "\n",
              "    .dataframe thead th {\n",
              "        text-align: right;\n",
              "    }\n",
              "</style>\n",
              "<table border=\"1\" class=\"dataframe\">\n",
              "  <thead>\n",
              "    <tr style=\"text-align: right;\">\n",
              "      <th></th>\n",
              "      <th>Duration</th>\n",
              "      <th>Date</th>\n",
              "      <th>Gender</th>\n",
              "      <th>Height</th>\n",
              "      <th>Weight</th>\n",
              "      <th>Pulse</th>\n",
              "      <th>Maxpulse</th>\n",
              "      <th>Calories</th>\n",
              "      <th>Name Doctor</th>\n",
              "    </tr>\n",
              "  </thead>\n",
              "  <tbody>\n",
              "    <tr>\n",
              "      <th>0</th>\n",
              "      <td>60</td>\n",
              "      <td>2022-03-16</td>\n",
              "      <td>Male</td>\n",
              "      <td>174.0</td>\n",
              "      <td>96.0</td>\n",
              "      <td>104</td>\n",
              "      <td>132</td>\n",
              "      <td>379.3</td>\n",
              "      <td>Christy, Catherine</td>\n",
              "    </tr>\n",
              "    <tr>\n",
              "      <th>1</th>\n",
              "      <td>60</td>\n",
              "      <td>2022-03-16</td>\n",
              "      <td>Female</td>\n",
              "      <td>189.0</td>\n",
              "      <td>87.0</td>\n",
              "      <td>98</td>\n",
              "      <td>123</td>\n",
              "      <td>275.0</td>\n",
              "      <td>Mukund, Catherine</td>\n",
              "    </tr>\n",
              "    <tr>\n",
              "      <th>2</th>\n",
              "      <td>60</td>\n",
              "      <td>2022-03-16</td>\n",
              "      <td>Female</td>\n",
              "      <td>185.0</td>\n",
              "      <td>110.0</td>\n",
              "      <td>98</td>\n",
              "      <td>120</td>\n",
              "      <td>215.2</td>\n",
              "      <td>Aswathy, Catherine</td>\n",
              "    </tr>\n",
              "    <tr>\n",
              "      <th>3</th>\n",
              "      <td>500</td>\n",
              "      <td>2022-03-16</td>\n",
              "      <td>Male</td>\n",
              "      <td>195.0</td>\n",
              "      <td>104.0</td>\n",
              "      <td>100</td>\n",
              "      <td>120</td>\n",
              "      <td>300.0</td>\n",
              "      <td>Phil, Catherine</td>\n",
              "    </tr>\n",
              "    <tr>\n",
              "      <th>4</th>\n",
              "      <td>60</td>\n",
              "      <td>2022-03-16</td>\n",
              "      <td>Male</td>\n",
              "      <td>149.0</td>\n",
              "      <td>61.0</td>\n",
              "      <td>90</td>\n",
              "      <td>112</td>\n",
              "      <td>NaN</td>\n",
              "      <td>Vince, Catherine</td>\n",
              "    </tr>\n",
              "    <tr>\n",
              "      <th>5</th>\n",
              "      <td>60</td>\n",
              "      <td>2022-03-16</td>\n",
              "      <td>Male</td>\n",
              "      <td>189.0</td>\n",
              "      <td>104.0</td>\n",
              "      <td>103</td>\n",
              "      <td>123</td>\n",
              "      <td>323.0</td>\n",
              "      <td>Akshaya, Jony</td>\n",
              "    </tr>\n",
              "    <tr>\n",
              "      <th>6</th>\n",
              "      <td>60</td>\n",
              "      <td>2022-03-16</td>\n",
              "      <td>Male</td>\n",
              "      <td>147.0</td>\n",
              "      <td>NaN</td>\n",
              "      <td>97</td>\n",
              "      <td>125</td>\n",
              "      <td>243.0</td>\n",
              "      <td>Ajay, Jony</td>\n",
              "    </tr>\n",
              "    <tr>\n",
              "      <th>7</th>\n",
              "      <td>60</td>\n",
              "      <td>2022-03-16</td>\n",
              "      <td>Male</td>\n",
              "      <td>NaN</td>\n",
              "      <td>101.0</td>\n",
              "      <td>108</td>\n",
              "      <td>131</td>\n",
              "      <td>364.2</td>\n",
              "      <td>Jay, Jony</td>\n",
              "    </tr>\n",
              "    <tr>\n",
              "      <th>8</th>\n",
              "      <td>45</td>\n",
              "      <td>2022-03-16</td>\n",
              "      <td>Female</td>\n",
              "      <td>174.0</td>\n",
              "      <td>90.0</td>\n",
              "      <td>100</td>\n",
              "      <td>119</td>\n",
              "      <td>282.0</td>\n",
              "      <td>Shyam, Catherine</td>\n",
              "    </tr>\n",
              "    <tr>\n",
              "      <th>9</th>\n",
              "      <td>50</td>\n",
              "      <td>2022-03-16</td>\n",
              "      <td>Male</td>\n",
              "      <td>169.0</td>\n",
              "      <td>NaN</td>\n",
              "      <td>130</td>\n",
              "      <td>101</td>\n",
              "      <td>300.0</td>\n",
              "      <td>Neha, Catherine</td>\n",
              "    </tr>\n",
              "    <tr>\n",
              "      <th>10</th>\n",
              "      <td>450</td>\n",
              "      <td>2022-03-16</td>\n",
              "      <td>Female</td>\n",
              "      <td>NaN</td>\n",
              "      <td>81.0</td>\n",
              "      <td>105</td>\n",
              "      <td>132</td>\n",
              "      <td>246.0</td>\n",
              "      <td>Mehru, Catherine</td>\n",
              "    </tr>\n",
              "    <tr>\n",
              "      <th>11</th>\n",
              "      <td>60</td>\n",
              "      <td>NaT</td>\n",
              "      <td>Female</td>\n",
              "      <td>159.0</td>\n",
              "      <td>80.0</td>\n",
              "      <td>102</td>\n",
              "      <td>126</td>\n",
              "      <td>334.5</td>\n",
              "      <td>Dipa, Catherine</td>\n",
              "    </tr>\n",
              "    <tr>\n",
              "      <th>12</th>\n",
              "      <td>450</td>\n",
              "      <td>2022-03-16</td>\n",
              "      <td>Male</td>\n",
              "      <td>192.0</td>\n",
              "      <td>91.0</td>\n",
              "      <td>100</td>\n",
              "      <td>120</td>\n",
              "      <td>250.0</td>\n",
              "      <td>Jim, Jony</td>\n",
              "    </tr>\n",
              "    <tr>\n",
              "      <th>13</th>\n",
              "      <td>45</td>\n",
              "      <td>2022-03-16</td>\n",
              "      <td>Male</td>\n",
              "      <td>155.0</td>\n",
              "      <td>51.0</td>\n",
              "      <td>92</td>\n",
              "      <td>118</td>\n",
              "      <td>241.0</td>\n",
              "      <td>Divya, Catherine</td>\n",
              "    </tr>\n",
              "    <tr>\n",
              "      <th>14</th>\n",
              "      <td>50</td>\n",
              "      <td>2022-03-16</td>\n",
              "      <td>Gender</td>\n",
              "      <td>191.0</td>\n",
              "      <td>79.0</td>\n",
              "      <td>103</td>\n",
              "      <td>132</td>\n",
              "      <td>NaN</td>\n",
              "      <td>Liya, Catherine</td>\n",
              "    </tr>\n",
              "    <tr>\n",
              "      <th>15</th>\n",
              "      <td>60</td>\n",
              "      <td>2022-03-16</td>\n",
              "      <td>Male</td>\n",
              "      <td>153.0</td>\n",
              "      <td>70.0</td>\n",
              "      <td>97</td>\n",
              "      <td>132</td>\n",
              "      <td>280.0</td>\n",
              "      <td>Jack, Jony</td>\n",
              "    </tr>\n",
              "  </tbody>\n",
              "</table>\n",
              "</div>\n",
              "      <button class=\"colab-df-convert\" onclick=\"convertToInteractive('df-46d71150-d472-4177-bccd-35d7af683ef8')\"\n",
              "              title=\"Convert this dataframe to an interactive table.\"\n",
              "              style=\"display:none;\">\n",
              "        \n",
              "  <svg xmlns=\"http://www.w3.org/2000/svg\" height=\"24px\"viewBox=\"0 0 24 24\"\n",
              "       width=\"24px\">\n",
              "    <path d=\"M0 0h24v24H0V0z\" fill=\"none\"/>\n",
              "    <path d=\"M18.56 5.44l.94 2.06.94-2.06 2.06-.94-2.06-.94-.94-2.06-.94 2.06-2.06.94zm-11 1L8.5 8.5l.94-2.06 2.06-.94-2.06-.94L8.5 2.5l-.94 2.06-2.06.94zm10 10l.94 2.06.94-2.06 2.06-.94-2.06-.94-.94-2.06-.94 2.06-2.06.94z\"/><path d=\"M17.41 7.96l-1.37-1.37c-.4-.4-.92-.59-1.43-.59-.52 0-1.04.2-1.43.59L10.3 9.45l-7.72 7.72c-.78.78-.78 2.05 0 2.83L4 21.41c.39.39.9.59 1.41.59.51 0 1.02-.2 1.41-.59l7.78-7.78 2.81-2.81c.8-.78.8-2.07 0-2.86zM5.41 20L4 18.59l7.72-7.72 1.47 1.35L5.41 20z\"/>\n",
              "  </svg>\n",
              "      </button>\n",
              "      \n",
              "  <style>\n",
              "    .colab-df-container {\n",
              "      display:flex;\n",
              "      flex-wrap:wrap;\n",
              "      gap: 12px;\n",
              "    }\n",
              "\n",
              "    .colab-df-convert {\n",
              "      background-color: #E8F0FE;\n",
              "      border: none;\n",
              "      border-radius: 50%;\n",
              "      cursor: pointer;\n",
              "      display: none;\n",
              "      fill: #1967D2;\n",
              "      height: 32px;\n",
              "      padding: 0 0 0 0;\n",
              "      width: 32px;\n",
              "    }\n",
              "\n",
              "    .colab-df-convert:hover {\n",
              "      background-color: #E2EBFA;\n",
              "      box-shadow: 0px 1px 2px rgba(60, 64, 67, 0.3), 0px 1px 3px 1px rgba(60, 64, 67, 0.15);\n",
              "      fill: #174EA6;\n",
              "    }\n",
              "\n",
              "    [theme=dark] .colab-df-convert {\n",
              "      background-color: #3B4455;\n",
              "      fill: #D2E3FC;\n",
              "    }\n",
              "\n",
              "    [theme=dark] .colab-df-convert:hover {\n",
              "      background-color: #434B5C;\n",
              "      box-shadow: 0px 1px 3px 1px rgba(0, 0, 0, 0.15);\n",
              "      filter: drop-shadow(0px 1px 2px rgba(0, 0, 0, 0.3));\n",
              "      fill: #FFFFFF;\n",
              "    }\n",
              "  </style>\n",
              "\n",
              "      <script>\n",
              "        const buttonEl =\n",
              "          document.querySelector('#df-46d71150-d472-4177-bccd-35d7af683ef8 button.colab-df-convert');\n",
              "        buttonEl.style.display =\n",
              "          google.colab.kernel.accessAllowed ? 'block' : 'none';\n",
              "\n",
              "        async function convertToInteractive(key) {\n",
              "          const element = document.querySelector('#df-46d71150-d472-4177-bccd-35d7af683ef8');\n",
              "          const dataTable =\n",
              "            await google.colab.kernel.invokeFunction('convertToInteractive',\n",
              "                                                     [key], {});\n",
              "          if (!dataTable) return;\n",
              "\n",
              "          const docLinkHtml = 'Like what you see? Visit the ' +\n",
              "            '<a target=\"_blank\" href=https://colab.research.google.com/notebooks/data_table.ipynb>data table notebook</a>'\n",
              "            + ' to learn more about interactive tables.';\n",
              "          element.innerHTML = '';\n",
              "          dataTable['output_type'] = 'display_data';\n",
              "          await google.colab.output.renderOutput(dataTable, element);\n",
              "          const docLink = document.createElement('div');\n",
              "          docLink.innerHTML = docLinkHtml;\n",
              "          element.appendChild(docLink);\n",
              "        }\n",
              "      </script>\n",
              "    </div>\n",
              "  </div>\n",
              "  "
            ]
          },
          "metadata": {},
          "execution_count": 167
        }
      ]
    },
    {
      "cell_type": "code",
      "source": [
        "data.shape"
      ],
      "metadata": {
        "colab": {
          "base_uri": "https://localhost:8080/"
        },
        "id": "V6yiBzdKMvA0",
        "outputId": "c2aea41f-28b1-45aa-f8dd-bf22b1756d70"
      },
      "execution_count": 168,
      "outputs": [
        {
          "output_type": "execute_result",
          "data": {
            "text/plain": [
              "(16, 9)"
            ]
          },
          "metadata": {},
          "execution_count": 168
        }
      ]
    },
    {
      "cell_type": "code",
      "source": [
        "data.info()"
      ],
      "metadata": {
        "colab": {
          "base_uri": "https://localhost:8080/"
        },
        "id": "dbUHm5aZMy2_",
        "outputId": "cdf345f9-21fe-4dfb-e187-579414be8b1b"
      },
      "execution_count": 169,
      "outputs": [
        {
          "output_type": "stream",
          "name": "stdout",
          "text": [
            "<class 'pandas.core.frame.DataFrame'>\n",
            "RangeIndex: 16 entries, 0 to 15\n",
            "Data columns (total 9 columns):\n",
            " #   Column       Non-Null Count  Dtype         \n",
            "---  ------       --------------  -----         \n",
            " 0   Duration     16 non-null     int64         \n",
            " 1   Date         15 non-null     datetime64[ns]\n",
            " 2   Gender       16 non-null     object        \n",
            " 3   Height       14 non-null     float64       \n",
            " 4   Weight       14 non-null     float64       \n",
            " 5   Pulse        16 non-null     int64         \n",
            " 6   Maxpulse     16 non-null     int64         \n",
            " 7   Calories     14 non-null     float64       \n",
            " 8   Name Doctor  16 non-null     object        \n",
            "dtypes: datetime64[ns](1), float64(3), int64(3), object(2)\n",
            "memory usage: 1.2+ KB\n"
          ]
        }
      ]
    },
    {
      "cell_type": "code",
      "source": [
        "data.isna().sum()"
      ],
      "metadata": {
        "colab": {
          "base_uri": "https://localhost:8080/"
        },
        "id": "GGbTCUk9AFAL",
        "outputId": "aecd3271-a4c1-417e-d5b7-b7ae08322977"
      },
      "execution_count": 170,
      "outputs": [
        {
          "output_type": "execute_result",
          "data": {
            "text/plain": [
              "Duration       0\n",
              "Date           1\n",
              "Gender         0\n",
              "Height         2\n",
              "Weight         2\n",
              "Pulse          0\n",
              "Maxpulse       0\n",
              "Calories       2\n",
              "Name Doctor    0\n",
              "dtype: int64"
            ]
          },
          "metadata": {},
          "execution_count": 170
        }
      ]
    },
    {
      "cell_type": "code",
      "source": [
        "data['Date']=data['Date'].fillna(data['Date'].mode()[0])#filling null value in Date with mode.\n",
        "data"
      ],
      "metadata": {
        "colab": {
          "base_uri": "https://localhost:8080/",
          "height": 551
        },
        "id": "qJSg8AsrNHGI",
        "outputId": "96fa9a81-eccd-409d-910b-8af1d8615482"
      },
      "execution_count": 171,
      "outputs": [
        {
          "output_type": "execute_result",
          "data": {
            "text/plain": [
              "    Duration       Date  Gender  Height  Weight  Pulse  Maxpulse  Calories  \\\n",
              "0         60 2022-03-16    Male   174.0    96.0    104       132     379.3   \n",
              "1         60 2022-03-16  Female   189.0    87.0     98       123     275.0   \n",
              "2         60 2022-03-16  Female   185.0   110.0     98       120     215.2   \n",
              "3        500 2022-03-16    Male   195.0   104.0    100       120     300.0   \n",
              "4         60 2022-03-16    Male   149.0    61.0     90       112       NaN   \n",
              "5         60 2022-03-16    Male   189.0   104.0    103       123     323.0   \n",
              "6         60 2022-03-16    Male   147.0     NaN     97       125     243.0   \n",
              "7         60 2022-03-16    Male     NaN   101.0    108       131     364.2   \n",
              "8         45 2022-03-16  Female   174.0    90.0    100       119     282.0   \n",
              "9         50 2022-03-16    Male   169.0     NaN    130       101     300.0   \n",
              "10       450 2022-03-16  Female     NaN    81.0    105       132     246.0   \n",
              "11        60 2022-03-16  Female   159.0    80.0    102       126     334.5   \n",
              "12       450 2022-03-16    Male   192.0    91.0    100       120     250.0   \n",
              "13        45 2022-03-16    Male   155.0    51.0     92       118     241.0   \n",
              "14        50 2022-03-16  Gender   191.0    79.0    103       132       NaN   \n",
              "15        60 2022-03-16    Male   153.0    70.0     97       132     280.0   \n",
              "\n",
              "           Name Doctor  \n",
              "0   Christy, Catherine  \n",
              "1    Mukund, Catherine  \n",
              "2   Aswathy, Catherine  \n",
              "3      Phil, Catherine  \n",
              "4     Vince, Catherine  \n",
              "5        Akshaya, Jony  \n",
              "6           Ajay, Jony  \n",
              "7            Jay, Jony  \n",
              "8     Shyam, Catherine  \n",
              "9      Neha, Catherine  \n",
              "10    Mehru, Catherine  \n",
              "11     Dipa, Catherine  \n",
              "12           Jim, Jony  \n",
              "13    Divya, Catherine  \n",
              "14     Liya, Catherine  \n",
              "15          Jack, Jony  "
            ],
            "text/html": [
              "\n",
              "  <div id=\"df-f8f856a9-95a7-47e3-9435-4df13b814474\">\n",
              "    <div class=\"colab-df-container\">\n",
              "      <div>\n",
              "<style scoped>\n",
              "    .dataframe tbody tr th:only-of-type {\n",
              "        vertical-align: middle;\n",
              "    }\n",
              "\n",
              "    .dataframe tbody tr th {\n",
              "        vertical-align: top;\n",
              "    }\n",
              "\n",
              "    .dataframe thead th {\n",
              "        text-align: right;\n",
              "    }\n",
              "</style>\n",
              "<table border=\"1\" class=\"dataframe\">\n",
              "  <thead>\n",
              "    <tr style=\"text-align: right;\">\n",
              "      <th></th>\n",
              "      <th>Duration</th>\n",
              "      <th>Date</th>\n",
              "      <th>Gender</th>\n",
              "      <th>Height</th>\n",
              "      <th>Weight</th>\n",
              "      <th>Pulse</th>\n",
              "      <th>Maxpulse</th>\n",
              "      <th>Calories</th>\n",
              "      <th>Name Doctor</th>\n",
              "    </tr>\n",
              "  </thead>\n",
              "  <tbody>\n",
              "    <tr>\n",
              "      <th>0</th>\n",
              "      <td>60</td>\n",
              "      <td>2022-03-16</td>\n",
              "      <td>Male</td>\n",
              "      <td>174.0</td>\n",
              "      <td>96.0</td>\n",
              "      <td>104</td>\n",
              "      <td>132</td>\n",
              "      <td>379.3</td>\n",
              "      <td>Christy, Catherine</td>\n",
              "    </tr>\n",
              "    <tr>\n",
              "      <th>1</th>\n",
              "      <td>60</td>\n",
              "      <td>2022-03-16</td>\n",
              "      <td>Female</td>\n",
              "      <td>189.0</td>\n",
              "      <td>87.0</td>\n",
              "      <td>98</td>\n",
              "      <td>123</td>\n",
              "      <td>275.0</td>\n",
              "      <td>Mukund, Catherine</td>\n",
              "    </tr>\n",
              "    <tr>\n",
              "      <th>2</th>\n",
              "      <td>60</td>\n",
              "      <td>2022-03-16</td>\n",
              "      <td>Female</td>\n",
              "      <td>185.0</td>\n",
              "      <td>110.0</td>\n",
              "      <td>98</td>\n",
              "      <td>120</td>\n",
              "      <td>215.2</td>\n",
              "      <td>Aswathy, Catherine</td>\n",
              "    </tr>\n",
              "    <tr>\n",
              "      <th>3</th>\n",
              "      <td>500</td>\n",
              "      <td>2022-03-16</td>\n",
              "      <td>Male</td>\n",
              "      <td>195.0</td>\n",
              "      <td>104.0</td>\n",
              "      <td>100</td>\n",
              "      <td>120</td>\n",
              "      <td>300.0</td>\n",
              "      <td>Phil, Catherine</td>\n",
              "    </tr>\n",
              "    <tr>\n",
              "      <th>4</th>\n",
              "      <td>60</td>\n",
              "      <td>2022-03-16</td>\n",
              "      <td>Male</td>\n",
              "      <td>149.0</td>\n",
              "      <td>61.0</td>\n",
              "      <td>90</td>\n",
              "      <td>112</td>\n",
              "      <td>NaN</td>\n",
              "      <td>Vince, Catherine</td>\n",
              "    </tr>\n",
              "    <tr>\n",
              "      <th>5</th>\n",
              "      <td>60</td>\n",
              "      <td>2022-03-16</td>\n",
              "      <td>Male</td>\n",
              "      <td>189.0</td>\n",
              "      <td>104.0</td>\n",
              "      <td>103</td>\n",
              "      <td>123</td>\n",
              "      <td>323.0</td>\n",
              "      <td>Akshaya, Jony</td>\n",
              "    </tr>\n",
              "    <tr>\n",
              "      <th>6</th>\n",
              "      <td>60</td>\n",
              "      <td>2022-03-16</td>\n",
              "      <td>Male</td>\n",
              "      <td>147.0</td>\n",
              "      <td>NaN</td>\n",
              "      <td>97</td>\n",
              "      <td>125</td>\n",
              "      <td>243.0</td>\n",
              "      <td>Ajay, Jony</td>\n",
              "    </tr>\n",
              "    <tr>\n",
              "      <th>7</th>\n",
              "      <td>60</td>\n",
              "      <td>2022-03-16</td>\n",
              "      <td>Male</td>\n",
              "      <td>NaN</td>\n",
              "      <td>101.0</td>\n",
              "      <td>108</td>\n",
              "      <td>131</td>\n",
              "      <td>364.2</td>\n",
              "      <td>Jay, Jony</td>\n",
              "    </tr>\n",
              "    <tr>\n",
              "      <th>8</th>\n",
              "      <td>45</td>\n",
              "      <td>2022-03-16</td>\n",
              "      <td>Female</td>\n",
              "      <td>174.0</td>\n",
              "      <td>90.0</td>\n",
              "      <td>100</td>\n",
              "      <td>119</td>\n",
              "      <td>282.0</td>\n",
              "      <td>Shyam, Catherine</td>\n",
              "    </tr>\n",
              "    <tr>\n",
              "      <th>9</th>\n",
              "      <td>50</td>\n",
              "      <td>2022-03-16</td>\n",
              "      <td>Male</td>\n",
              "      <td>169.0</td>\n",
              "      <td>NaN</td>\n",
              "      <td>130</td>\n",
              "      <td>101</td>\n",
              "      <td>300.0</td>\n",
              "      <td>Neha, Catherine</td>\n",
              "    </tr>\n",
              "    <tr>\n",
              "      <th>10</th>\n",
              "      <td>450</td>\n",
              "      <td>2022-03-16</td>\n",
              "      <td>Female</td>\n",
              "      <td>NaN</td>\n",
              "      <td>81.0</td>\n",
              "      <td>105</td>\n",
              "      <td>132</td>\n",
              "      <td>246.0</td>\n",
              "      <td>Mehru, Catherine</td>\n",
              "    </tr>\n",
              "    <tr>\n",
              "      <th>11</th>\n",
              "      <td>60</td>\n",
              "      <td>2022-03-16</td>\n",
              "      <td>Female</td>\n",
              "      <td>159.0</td>\n",
              "      <td>80.0</td>\n",
              "      <td>102</td>\n",
              "      <td>126</td>\n",
              "      <td>334.5</td>\n",
              "      <td>Dipa, Catherine</td>\n",
              "    </tr>\n",
              "    <tr>\n",
              "      <th>12</th>\n",
              "      <td>450</td>\n",
              "      <td>2022-03-16</td>\n",
              "      <td>Male</td>\n",
              "      <td>192.0</td>\n",
              "      <td>91.0</td>\n",
              "      <td>100</td>\n",
              "      <td>120</td>\n",
              "      <td>250.0</td>\n",
              "      <td>Jim, Jony</td>\n",
              "    </tr>\n",
              "    <tr>\n",
              "      <th>13</th>\n",
              "      <td>45</td>\n",
              "      <td>2022-03-16</td>\n",
              "      <td>Male</td>\n",
              "      <td>155.0</td>\n",
              "      <td>51.0</td>\n",
              "      <td>92</td>\n",
              "      <td>118</td>\n",
              "      <td>241.0</td>\n",
              "      <td>Divya, Catherine</td>\n",
              "    </tr>\n",
              "    <tr>\n",
              "      <th>14</th>\n",
              "      <td>50</td>\n",
              "      <td>2022-03-16</td>\n",
              "      <td>Gender</td>\n",
              "      <td>191.0</td>\n",
              "      <td>79.0</td>\n",
              "      <td>103</td>\n",
              "      <td>132</td>\n",
              "      <td>NaN</td>\n",
              "      <td>Liya, Catherine</td>\n",
              "    </tr>\n",
              "    <tr>\n",
              "      <th>15</th>\n",
              "      <td>60</td>\n",
              "      <td>2022-03-16</td>\n",
              "      <td>Male</td>\n",
              "      <td>153.0</td>\n",
              "      <td>70.0</td>\n",
              "      <td>97</td>\n",
              "      <td>132</td>\n",
              "      <td>280.0</td>\n",
              "      <td>Jack, Jony</td>\n",
              "    </tr>\n",
              "  </tbody>\n",
              "</table>\n",
              "</div>\n",
              "      <button class=\"colab-df-convert\" onclick=\"convertToInteractive('df-f8f856a9-95a7-47e3-9435-4df13b814474')\"\n",
              "              title=\"Convert this dataframe to an interactive table.\"\n",
              "              style=\"display:none;\">\n",
              "        \n",
              "  <svg xmlns=\"http://www.w3.org/2000/svg\" height=\"24px\"viewBox=\"0 0 24 24\"\n",
              "       width=\"24px\">\n",
              "    <path d=\"M0 0h24v24H0V0z\" fill=\"none\"/>\n",
              "    <path d=\"M18.56 5.44l.94 2.06.94-2.06 2.06-.94-2.06-.94-.94-2.06-.94 2.06-2.06.94zm-11 1L8.5 8.5l.94-2.06 2.06-.94-2.06-.94L8.5 2.5l-.94 2.06-2.06.94zm10 10l.94 2.06.94-2.06 2.06-.94-2.06-.94-.94-2.06-.94 2.06-2.06.94z\"/><path d=\"M17.41 7.96l-1.37-1.37c-.4-.4-.92-.59-1.43-.59-.52 0-1.04.2-1.43.59L10.3 9.45l-7.72 7.72c-.78.78-.78 2.05 0 2.83L4 21.41c.39.39.9.59 1.41.59.51 0 1.02-.2 1.41-.59l7.78-7.78 2.81-2.81c.8-.78.8-2.07 0-2.86zM5.41 20L4 18.59l7.72-7.72 1.47 1.35L5.41 20z\"/>\n",
              "  </svg>\n",
              "      </button>\n",
              "      \n",
              "  <style>\n",
              "    .colab-df-container {\n",
              "      display:flex;\n",
              "      flex-wrap:wrap;\n",
              "      gap: 12px;\n",
              "    }\n",
              "\n",
              "    .colab-df-convert {\n",
              "      background-color: #E8F0FE;\n",
              "      border: none;\n",
              "      border-radius: 50%;\n",
              "      cursor: pointer;\n",
              "      display: none;\n",
              "      fill: #1967D2;\n",
              "      height: 32px;\n",
              "      padding: 0 0 0 0;\n",
              "      width: 32px;\n",
              "    }\n",
              "\n",
              "    .colab-df-convert:hover {\n",
              "      background-color: #E2EBFA;\n",
              "      box-shadow: 0px 1px 2px rgba(60, 64, 67, 0.3), 0px 1px 3px 1px rgba(60, 64, 67, 0.15);\n",
              "      fill: #174EA6;\n",
              "    }\n",
              "\n",
              "    [theme=dark] .colab-df-convert {\n",
              "      background-color: #3B4455;\n",
              "      fill: #D2E3FC;\n",
              "    }\n",
              "\n",
              "    [theme=dark] .colab-df-convert:hover {\n",
              "      background-color: #434B5C;\n",
              "      box-shadow: 0px 1px 3px 1px rgba(0, 0, 0, 0.15);\n",
              "      filter: drop-shadow(0px 1px 2px rgba(0, 0, 0, 0.3));\n",
              "      fill: #FFFFFF;\n",
              "    }\n",
              "  </style>\n",
              "\n",
              "      <script>\n",
              "        const buttonEl =\n",
              "          document.querySelector('#df-f8f856a9-95a7-47e3-9435-4df13b814474 button.colab-df-convert');\n",
              "        buttonEl.style.display =\n",
              "          google.colab.kernel.accessAllowed ? 'block' : 'none';\n",
              "\n",
              "        async function convertToInteractive(key) {\n",
              "          const element = document.querySelector('#df-f8f856a9-95a7-47e3-9435-4df13b814474');\n",
              "          const dataTable =\n",
              "            await google.colab.kernel.invokeFunction('convertToInteractive',\n",
              "                                                     [key], {});\n",
              "          if (!dataTable) return;\n",
              "\n",
              "          const docLinkHtml = 'Like what you see? Visit the ' +\n",
              "            '<a target=\"_blank\" href=https://colab.research.google.com/notebooks/data_table.ipynb>data table notebook</a>'\n",
              "            + ' to learn more about interactive tables.';\n",
              "          element.innerHTML = '';\n",
              "          dataTable['output_type'] = 'display_data';\n",
              "          await google.colab.output.renderOutput(dataTable, element);\n",
              "          const docLink = document.createElement('div');\n",
              "          docLink.innerHTML = docLinkHtml;\n",
              "          element.appendChild(docLink);\n",
              "        }\n",
              "      </script>\n",
              "    </div>\n",
              "  </div>\n",
              "  "
            ]
          },
          "metadata": {},
          "execution_count": 171
        }
      ]
    },
    {
      "cell_type": "code",
      "source": [
        "data.fillna(data[['Height','Weight','Calories']].mean(),inplace=True)\n",
        "#filling null values in Height,Weight and Calories with mean.\n",
        "data"
      ],
      "metadata": {
        "colab": {
          "base_uri": "https://localhost:8080/",
          "height": 551
        },
        "id": "WAB_-nyffTZf",
        "outputId": "bfc6a454-5e88-47d2-ff5c-712fe58391bf"
      },
      "execution_count": 172,
      "outputs": [
        {
          "output_type": "execute_result",
          "data": {
            "text/plain": [
              "    Duration       Date  Gender      Height      Weight  Pulse  Maxpulse  \\\n",
              "0         60 2022-03-16    Male  174.000000   96.000000    104       132   \n",
              "1         60 2022-03-16  Female  189.000000   87.000000     98       123   \n",
              "2         60 2022-03-16  Female  185.000000  110.000000     98       120   \n",
              "3        500 2022-03-16    Male  195.000000  104.000000    100       120   \n",
              "4         60 2022-03-16    Male  149.000000   61.000000     90       112   \n",
              "5         60 2022-03-16    Male  189.000000  104.000000    103       123   \n",
              "6         60 2022-03-16    Male  147.000000   86.071429     97       125   \n",
              "7         60 2022-03-16    Male  172.928571  101.000000    108       131   \n",
              "8         45 2022-03-16  Female  174.000000   90.000000    100       119   \n",
              "9         50 2022-03-16    Male  169.000000   86.071429    130       101   \n",
              "10       450 2022-03-16  Female  172.928571   81.000000    105       132   \n",
              "11        60 2022-03-16  Female  159.000000   80.000000    102       126   \n",
              "12       450 2022-03-16    Male  192.000000   91.000000    100       120   \n",
              "13        45 2022-03-16    Male  155.000000   51.000000     92       118   \n",
              "14        50 2022-03-16  Gender  191.000000   79.000000    103       132   \n",
              "15        60 2022-03-16    Male  153.000000   70.000000     97       132   \n",
              "\n",
              "      Calories         Name Doctor  \n",
              "0   379.300000  Christy, Catherine  \n",
              "1   275.000000   Mukund, Catherine  \n",
              "2   215.200000  Aswathy, Catherine  \n",
              "3   300.000000     Phil, Catherine  \n",
              "4   288.085714    Vince, Catherine  \n",
              "5   323.000000       Akshaya, Jony  \n",
              "6   243.000000          Ajay, Jony  \n",
              "7   364.200000           Jay, Jony  \n",
              "8   282.000000    Shyam, Catherine  \n",
              "9   300.000000     Neha, Catherine  \n",
              "10  246.000000    Mehru, Catherine  \n",
              "11  334.500000     Dipa, Catherine  \n",
              "12  250.000000           Jim, Jony  \n",
              "13  241.000000    Divya, Catherine  \n",
              "14  288.085714     Liya, Catherine  \n",
              "15  280.000000          Jack, Jony  "
            ],
            "text/html": [
              "\n",
              "  <div id=\"df-52f0fda5-2e23-4bd9-a4f5-0dca694d5fe4\">\n",
              "    <div class=\"colab-df-container\">\n",
              "      <div>\n",
              "<style scoped>\n",
              "    .dataframe tbody tr th:only-of-type {\n",
              "        vertical-align: middle;\n",
              "    }\n",
              "\n",
              "    .dataframe tbody tr th {\n",
              "        vertical-align: top;\n",
              "    }\n",
              "\n",
              "    .dataframe thead th {\n",
              "        text-align: right;\n",
              "    }\n",
              "</style>\n",
              "<table border=\"1\" class=\"dataframe\">\n",
              "  <thead>\n",
              "    <tr style=\"text-align: right;\">\n",
              "      <th></th>\n",
              "      <th>Duration</th>\n",
              "      <th>Date</th>\n",
              "      <th>Gender</th>\n",
              "      <th>Height</th>\n",
              "      <th>Weight</th>\n",
              "      <th>Pulse</th>\n",
              "      <th>Maxpulse</th>\n",
              "      <th>Calories</th>\n",
              "      <th>Name Doctor</th>\n",
              "    </tr>\n",
              "  </thead>\n",
              "  <tbody>\n",
              "    <tr>\n",
              "      <th>0</th>\n",
              "      <td>60</td>\n",
              "      <td>2022-03-16</td>\n",
              "      <td>Male</td>\n",
              "      <td>174.000000</td>\n",
              "      <td>96.000000</td>\n",
              "      <td>104</td>\n",
              "      <td>132</td>\n",
              "      <td>379.300000</td>\n",
              "      <td>Christy, Catherine</td>\n",
              "    </tr>\n",
              "    <tr>\n",
              "      <th>1</th>\n",
              "      <td>60</td>\n",
              "      <td>2022-03-16</td>\n",
              "      <td>Female</td>\n",
              "      <td>189.000000</td>\n",
              "      <td>87.000000</td>\n",
              "      <td>98</td>\n",
              "      <td>123</td>\n",
              "      <td>275.000000</td>\n",
              "      <td>Mukund, Catherine</td>\n",
              "    </tr>\n",
              "    <tr>\n",
              "      <th>2</th>\n",
              "      <td>60</td>\n",
              "      <td>2022-03-16</td>\n",
              "      <td>Female</td>\n",
              "      <td>185.000000</td>\n",
              "      <td>110.000000</td>\n",
              "      <td>98</td>\n",
              "      <td>120</td>\n",
              "      <td>215.200000</td>\n",
              "      <td>Aswathy, Catherine</td>\n",
              "    </tr>\n",
              "    <tr>\n",
              "      <th>3</th>\n",
              "      <td>500</td>\n",
              "      <td>2022-03-16</td>\n",
              "      <td>Male</td>\n",
              "      <td>195.000000</td>\n",
              "      <td>104.000000</td>\n",
              "      <td>100</td>\n",
              "      <td>120</td>\n",
              "      <td>300.000000</td>\n",
              "      <td>Phil, Catherine</td>\n",
              "    </tr>\n",
              "    <tr>\n",
              "      <th>4</th>\n",
              "      <td>60</td>\n",
              "      <td>2022-03-16</td>\n",
              "      <td>Male</td>\n",
              "      <td>149.000000</td>\n",
              "      <td>61.000000</td>\n",
              "      <td>90</td>\n",
              "      <td>112</td>\n",
              "      <td>288.085714</td>\n",
              "      <td>Vince, Catherine</td>\n",
              "    </tr>\n",
              "    <tr>\n",
              "      <th>5</th>\n",
              "      <td>60</td>\n",
              "      <td>2022-03-16</td>\n",
              "      <td>Male</td>\n",
              "      <td>189.000000</td>\n",
              "      <td>104.000000</td>\n",
              "      <td>103</td>\n",
              "      <td>123</td>\n",
              "      <td>323.000000</td>\n",
              "      <td>Akshaya, Jony</td>\n",
              "    </tr>\n",
              "    <tr>\n",
              "      <th>6</th>\n",
              "      <td>60</td>\n",
              "      <td>2022-03-16</td>\n",
              "      <td>Male</td>\n",
              "      <td>147.000000</td>\n",
              "      <td>86.071429</td>\n",
              "      <td>97</td>\n",
              "      <td>125</td>\n",
              "      <td>243.000000</td>\n",
              "      <td>Ajay, Jony</td>\n",
              "    </tr>\n",
              "    <tr>\n",
              "      <th>7</th>\n",
              "      <td>60</td>\n",
              "      <td>2022-03-16</td>\n",
              "      <td>Male</td>\n",
              "      <td>172.928571</td>\n",
              "      <td>101.000000</td>\n",
              "      <td>108</td>\n",
              "      <td>131</td>\n",
              "      <td>364.200000</td>\n",
              "      <td>Jay, Jony</td>\n",
              "    </tr>\n",
              "    <tr>\n",
              "      <th>8</th>\n",
              "      <td>45</td>\n",
              "      <td>2022-03-16</td>\n",
              "      <td>Female</td>\n",
              "      <td>174.000000</td>\n",
              "      <td>90.000000</td>\n",
              "      <td>100</td>\n",
              "      <td>119</td>\n",
              "      <td>282.000000</td>\n",
              "      <td>Shyam, Catherine</td>\n",
              "    </tr>\n",
              "    <tr>\n",
              "      <th>9</th>\n",
              "      <td>50</td>\n",
              "      <td>2022-03-16</td>\n",
              "      <td>Male</td>\n",
              "      <td>169.000000</td>\n",
              "      <td>86.071429</td>\n",
              "      <td>130</td>\n",
              "      <td>101</td>\n",
              "      <td>300.000000</td>\n",
              "      <td>Neha, Catherine</td>\n",
              "    </tr>\n",
              "    <tr>\n",
              "      <th>10</th>\n",
              "      <td>450</td>\n",
              "      <td>2022-03-16</td>\n",
              "      <td>Female</td>\n",
              "      <td>172.928571</td>\n",
              "      <td>81.000000</td>\n",
              "      <td>105</td>\n",
              "      <td>132</td>\n",
              "      <td>246.000000</td>\n",
              "      <td>Mehru, Catherine</td>\n",
              "    </tr>\n",
              "    <tr>\n",
              "      <th>11</th>\n",
              "      <td>60</td>\n",
              "      <td>2022-03-16</td>\n",
              "      <td>Female</td>\n",
              "      <td>159.000000</td>\n",
              "      <td>80.000000</td>\n",
              "      <td>102</td>\n",
              "      <td>126</td>\n",
              "      <td>334.500000</td>\n",
              "      <td>Dipa, Catherine</td>\n",
              "    </tr>\n",
              "    <tr>\n",
              "      <th>12</th>\n",
              "      <td>450</td>\n",
              "      <td>2022-03-16</td>\n",
              "      <td>Male</td>\n",
              "      <td>192.000000</td>\n",
              "      <td>91.000000</td>\n",
              "      <td>100</td>\n",
              "      <td>120</td>\n",
              "      <td>250.000000</td>\n",
              "      <td>Jim, Jony</td>\n",
              "    </tr>\n",
              "    <tr>\n",
              "      <th>13</th>\n",
              "      <td>45</td>\n",
              "      <td>2022-03-16</td>\n",
              "      <td>Male</td>\n",
              "      <td>155.000000</td>\n",
              "      <td>51.000000</td>\n",
              "      <td>92</td>\n",
              "      <td>118</td>\n",
              "      <td>241.000000</td>\n",
              "      <td>Divya, Catherine</td>\n",
              "    </tr>\n",
              "    <tr>\n",
              "      <th>14</th>\n",
              "      <td>50</td>\n",
              "      <td>2022-03-16</td>\n",
              "      <td>Gender</td>\n",
              "      <td>191.000000</td>\n",
              "      <td>79.000000</td>\n",
              "      <td>103</td>\n",
              "      <td>132</td>\n",
              "      <td>288.085714</td>\n",
              "      <td>Liya, Catherine</td>\n",
              "    </tr>\n",
              "    <tr>\n",
              "      <th>15</th>\n",
              "      <td>60</td>\n",
              "      <td>2022-03-16</td>\n",
              "      <td>Male</td>\n",
              "      <td>153.000000</td>\n",
              "      <td>70.000000</td>\n",
              "      <td>97</td>\n",
              "      <td>132</td>\n",
              "      <td>280.000000</td>\n",
              "      <td>Jack, Jony</td>\n",
              "    </tr>\n",
              "  </tbody>\n",
              "</table>\n",
              "</div>\n",
              "      <button class=\"colab-df-convert\" onclick=\"convertToInteractive('df-52f0fda5-2e23-4bd9-a4f5-0dca694d5fe4')\"\n",
              "              title=\"Convert this dataframe to an interactive table.\"\n",
              "              style=\"display:none;\">\n",
              "        \n",
              "  <svg xmlns=\"http://www.w3.org/2000/svg\" height=\"24px\"viewBox=\"0 0 24 24\"\n",
              "       width=\"24px\">\n",
              "    <path d=\"M0 0h24v24H0V0z\" fill=\"none\"/>\n",
              "    <path d=\"M18.56 5.44l.94 2.06.94-2.06 2.06-.94-2.06-.94-.94-2.06-.94 2.06-2.06.94zm-11 1L8.5 8.5l.94-2.06 2.06-.94-2.06-.94L8.5 2.5l-.94 2.06-2.06.94zm10 10l.94 2.06.94-2.06 2.06-.94-2.06-.94-.94-2.06-.94 2.06-2.06.94z\"/><path d=\"M17.41 7.96l-1.37-1.37c-.4-.4-.92-.59-1.43-.59-.52 0-1.04.2-1.43.59L10.3 9.45l-7.72 7.72c-.78.78-.78 2.05 0 2.83L4 21.41c.39.39.9.59 1.41.59.51 0 1.02-.2 1.41-.59l7.78-7.78 2.81-2.81c.8-.78.8-2.07 0-2.86zM5.41 20L4 18.59l7.72-7.72 1.47 1.35L5.41 20z\"/>\n",
              "  </svg>\n",
              "      </button>\n",
              "      \n",
              "  <style>\n",
              "    .colab-df-container {\n",
              "      display:flex;\n",
              "      flex-wrap:wrap;\n",
              "      gap: 12px;\n",
              "    }\n",
              "\n",
              "    .colab-df-convert {\n",
              "      background-color: #E8F0FE;\n",
              "      border: none;\n",
              "      border-radius: 50%;\n",
              "      cursor: pointer;\n",
              "      display: none;\n",
              "      fill: #1967D2;\n",
              "      height: 32px;\n",
              "      padding: 0 0 0 0;\n",
              "      width: 32px;\n",
              "    }\n",
              "\n",
              "    .colab-df-convert:hover {\n",
              "      background-color: #E2EBFA;\n",
              "      box-shadow: 0px 1px 2px rgba(60, 64, 67, 0.3), 0px 1px 3px 1px rgba(60, 64, 67, 0.15);\n",
              "      fill: #174EA6;\n",
              "    }\n",
              "\n",
              "    [theme=dark] .colab-df-convert {\n",
              "      background-color: #3B4455;\n",
              "      fill: #D2E3FC;\n",
              "    }\n",
              "\n",
              "    [theme=dark] .colab-df-convert:hover {\n",
              "      background-color: #434B5C;\n",
              "      box-shadow: 0px 1px 3px 1px rgba(0, 0, 0, 0.15);\n",
              "      filter: drop-shadow(0px 1px 2px rgba(0, 0, 0, 0.3));\n",
              "      fill: #FFFFFF;\n",
              "    }\n",
              "  </style>\n",
              "\n",
              "      <script>\n",
              "        const buttonEl =\n",
              "          document.querySelector('#df-52f0fda5-2e23-4bd9-a4f5-0dca694d5fe4 button.colab-df-convert');\n",
              "        buttonEl.style.display =\n",
              "          google.colab.kernel.accessAllowed ? 'block' : 'none';\n",
              "\n",
              "        async function convertToInteractive(key) {\n",
              "          const element = document.querySelector('#df-52f0fda5-2e23-4bd9-a4f5-0dca694d5fe4');\n",
              "          const dataTable =\n",
              "            await google.colab.kernel.invokeFunction('convertToInteractive',\n",
              "                                                     [key], {});\n",
              "          if (!dataTable) return;\n",
              "\n",
              "          const docLinkHtml = 'Like what you see? Visit the ' +\n",
              "            '<a target=\"_blank\" href=https://colab.research.google.com/notebooks/data_table.ipynb>data table notebook</a>'\n",
              "            + ' to learn more about interactive tables.';\n",
              "          element.innerHTML = '';\n",
              "          dataTable['output_type'] = 'display_data';\n",
              "          await google.colab.output.renderOutput(dataTable, element);\n",
              "          const docLink = document.createElement('div');\n",
              "          docLink.innerHTML = docLinkHtml;\n",
              "          element.appendChild(docLink);\n",
              "        }\n",
              "      </script>\n",
              "    </div>\n",
              "  </div>\n",
              "  "
            ]
          },
          "metadata": {},
          "execution_count": 172
        }
      ]
    },
    {
      "cell_type": "code",
      "source": [
        "data['Name Doctor'.split(' ')]=data['Name Doctor'].str.split(',',expand=True)\n",
        "#splitting patient name and Doctor into two columns\n",
        "data"
      ],
      "metadata": {
        "colab": {
          "base_uri": "https://localhost:8080/",
          "height": 551
        },
        "id": "NTyIuM4jgn96",
        "outputId": "eea066c9-9f70-401e-a711-ecfa27160935"
      },
      "execution_count": 173,
      "outputs": [
        {
          "output_type": "execute_result",
          "data": {
            "text/plain": [
              "    Duration       Date  Gender      Height      Weight  Pulse  Maxpulse  \\\n",
              "0         60 2022-03-16    Male  174.000000   96.000000    104       132   \n",
              "1         60 2022-03-16  Female  189.000000   87.000000     98       123   \n",
              "2         60 2022-03-16  Female  185.000000  110.000000     98       120   \n",
              "3        500 2022-03-16    Male  195.000000  104.000000    100       120   \n",
              "4         60 2022-03-16    Male  149.000000   61.000000     90       112   \n",
              "5         60 2022-03-16    Male  189.000000  104.000000    103       123   \n",
              "6         60 2022-03-16    Male  147.000000   86.071429     97       125   \n",
              "7         60 2022-03-16    Male  172.928571  101.000000    108       131   \n",
              "8         45 2022-03-16  Female  174.000000   90.000000    100       119   \n",
              "9         50 2022-03-16    Male  169.000000   86.071429    130       101   \n",
              "10       450 2022-03-16  Female  172.928571   81.000000    105       132   \n",
              "11        60 2022-03-16  Female  159.000000   80.000000    102       126   \n",
              "12       450 2022-03-16    Male  192.000000   91.000000    100       120   \n",
              "13        45 2022-03-16    Male  155.000000   51.000000     92       118   \n",
              "14        50 2022-03-16  Gender  191.000000   79.000000    103       132   \n",
              "15        60 2022-03-16    Male  153.000000   70.000000     97       132   \n",
              "\n",
              "      Calories         Name Doctor     Name      Doctor  \n",
              "0   379.300000  Christy, Catherine  Christy   Catherine  \n",
              "1   275.000000   Mukund, Catherine   Mukund   Catherine  \n",
              "2   215.200000  Aswathy, Catherine  Aswathy   Catherine  \n",
              "3   300.000000     Phil, Catherine     Phil   Catherine  \n",
              "4   288.085714    Vince, Catherine    Vince   Catherine  \n",
              "5   323.000000       Akshaya, Jony  Akshaya        Jony  \n",
              "6   243.000000          Ajay, Jony     Ajay        Jony  \n",
              "7   364.200000           Jay, Jony      Jay        Jony  \n",
              "8   282.000000    Shyam, Catherine    Shyam   Catherine  \n",
              "9   300.000000     Neha, Catherine     Neha   Catherine  \n",
              "10  246.000000    Mehru, Catherine    Mehru   Catherine  \n",
              "11  334.500000     Dipa, Catherine     Dipa   Catherine  \n",
              "12  250.000000           Jim, Jony      Jim        Jony  \n",
              "13  241.000000    Divya, Catherine    Divya   Catherine  \n",
              "14  288.085714     Liya, Catherine     Liya   Catherine  \n",
              "15  280.000000          Jack, Jony     Jack        Jony  "
            ],
            "text/html": [
              "\n",
              "  <div id=\"df-fe861d86-b663-47f5-b0c6-c166513a57bd\">\n",
              "    <div class=\"colab-df-container\">\n",
              "      <div>\n",
              "<style scoped>\n",
              "    .dataframe tbody tr th:only-of-type {\n",
              "        vertical-align: middle;\n",
              "    }\n",
              "\n",
              "    .dataframe tbody tr th {\n",
              "        vertical-align: top;\n",
              "    }\n",
              "\n",
              "    .dataframe thead th {\n",
              "        text-align: right;\n",
              "    }\n",
              "</style>\n",
              "<table border=\"1\" class=\"dataframe\">\n",
              "  <thead>\n",
              "    <tr style=\"text-align: right;\">\n",
              "      <th></th>\n",
              "      <th>Duration</th>\n",
              "      <th>Date</th>\n",
              "      <th>Gender</th>\n",
              "      <th>Height</th>\n",
              "      <th>Weight</th>\n",
              "      <th>Pulse</th>\n",
              "      <th>Maxpulse</th>\n",
              "      <th>Calories</th>\n",
              "      <th>Name Doctor</th>\n",
              "      <th>Name</th>\n",
              "      <th>Doctor</th>\n",
              "    </tr>\n",
              "  </thead>\n",
              "  <tbody>\n",
              "    <tr>\n",
              "      <th>0</th>\n",
              "      <td>60</td>\n",
              "      <td>2022-03-16</td>\n",
              "      <td>Male</td>\n",
              "      <td>174.000000</td>\n",
              "      <td>96.000000</td>\n",
              "      <td>104</td>\n",
              "      <td>132</td>\n",
              "      <td>379.300000</td>\n",
              "      <td>Christy, Catherine</td>\n",
              "      <td>Christy</td>\n",
              "      <td>Catherine</td>\n",
              "    </tr>\n",
              "    <tr>\n",
              "      <th>1</th>\n",
              "      <td>60</td>\n",
              "      <td>2022-03-16</td>\n",
              "      <td>Female</td>\n",
              "      <td>189.000000</td>\n",
              "      <td>87.000000</td>\n",
              "      <td>98</td>\n",
              "      <td>123</td>\n",
              "      <td>275.000000</td>\n",
              "      <td>Mukund, Catherine</td>\n",
              "      <td>Mukund</td>\n",
              "      <td>Catherine</td>\n",
              "    </tr>\n",
              "    <tr>\n",
              "      <th>2</th>\n",
              "      <td>60</td>\n",
              "      <td>2022-03-16</td>\n",
              "      <td>Female</td>\n",
              "      <td>185.000000</td>\n",
              "      <td>110.000000</td>\n",
              "      <td>98</td>\n",
              "      <td>120</td>\n",
              "      <td>215.200000</td>\n",
              "      <td>Aswathy, Catherine</td>\n",
              "      <td>Aswathy</td>\n",
              "      <td>Catherine</td>\n",
              "    </tr>\n",
              "    <tr>\n",
              "      <th>3</th>\n",
              "      <td>500</td>\n",
              "      <td>2022-03-16</td>\n",
              "      <td>Male</td>\n",
              "      <td>195.000000</td>\n",
              "      <td>104.000000</td>\n",
              "      <td>100</td>\n",
              "      <td>120</td>\n",
              "      <td>300.000000</td>\n",
              "      <td>Phil, Catherine</td>\n",
              "      <td>Phil</td>\n",
              "      <td>Catherine</td>\n",
              "    </tr>\n",
              "    <tr>\n",
              "      <th>4</th>\n",
              "      <td>60</td>\n",
              "      <td>2022-03-16</td>\n",
              "      <td>Male</td>\n",
              "      <td>149.000000</td>\n",
              "      <td>61.000000</td>\n",
              "      <td>90</td>\n",
              "      <td>112</td>\n",
              "      <td>288.085714</td>\n",
              "      <td>Vince, Catherine</td>\n",
              "      <td>Vince</td>\n",
              "      <td>Catherine</td>\n",
              "    </tr>\n",
              "    <tr>\n",
              "      <th>5</th>\n",
              "      <td>60</td>\n",
              "      <td>2022-03-16</td>\n",
              "      <td>Male</td>\n",
              "      <td>189.000000</td>\n",
              "      <td>104.000000</td>\n",
              "      <td>103</td>\n",
              "      <td>123</td>\n",
              "      <td>323.000000</td>\n",
              "      <td>Akshaya, Jony</td>\n",
              "      <td>Akshaya</td>\n",
              "      <td>Jony</td>\n",
              "    </tr>\n",
              "    <tr>\n",
              "      <th>6</th>\n",
              "      <td>60</td>\n",
              "      <td>2022-03-16</td>\n",
              "      <td>Male</td>\n",
              "      <td>147.000000</td>\n",
              "      <td>86.071429</td>\n",
              "      <td>97</td>\n",
              "      <td>125</td>\n",
              "      <td>243.000000</td>\n",
              "      <td>Ajay, Jony</td>\n",
              "      <td>Ajay</td>\n",
              "      <td>Jony</td>\n",
              "    </tr>\n",
              "    <tr>\n",
              "      <th>7</th>\n",
              "      <td>60</td>\n",
              "      <td>2022-03-16</td>\n",
              "      <td>Male</td>\n",
              "      <td>172.928571</td>\n",
              "      <td>101.000000</td>\n",
              "      <td>108</td>\n",
              "      <td>131</td>\n",
              "      <td>364.200000</td>\n",
              "      <td>Jay, Jony</td>\n",
              "      <td>Jay</td>\n",
              "      <td>Jony</td>\n",
              "    </tr>\n",
              "    <tr>\n",
              "      <th>8</th>\n",
              "      <td>45</td>\n",
              "      <td>2022-03-16</td>\n",
              "      <td>Female</td>\n",
              "      <td>174.000000</td>\n",
              "      <td>90.000000</td>\n",
              "      <td>100</td>\n",
              "      <td>119</td>\n",
              "      <td>282.000000</td>\n",
              "      <td>Shyam, Catherine</td>\n",
              "      <td>Shyam</td>\n",
              "      <td>Catherine</td>\n",
              "    </tr>\n",
              "    <tr>\n",
              "      <th>9</th>\n",
              "      <td>50</td>\n",
              "      <td>2022-03-16</td>\n",
              "      <td>Male</td>\n",
              "      <td>169.000000</td>\n",
              "      <td>86.071429</td>\n",
              "      <td>130</td>\n",
              "      <td>101</td>\n",
              "      <td>300.000000</td>\n",
              "      <td>Neha, Catherine</td>\n",
              "      <td>Neha</td>\n",
              "      <td>Catherine</td>\n",
              "    </tr>\n",
              "    <tr>\n",
              "      <th>10</th>\n",
              "      <td>450</td>\n",
              "      <td>2022-03-16</td>\n",
              "      <td>Female</td>\n",
              "      <td>172.928571</td>\n",
              "      <td>81.000000</td>\n",
              "      <td>105</td>\n",
              "      <td>132</td>\n",
              "      <td>246.000000</td>\n",
              "      <td>Mehru, Catherine</td>\n",
              "      <td>Mehru</td>\n",
              "      <td>Catherine</td>\n",
              "    </tr>\n",
              "    <tr>\n",
              "      <th>11</th>\n",
              "      <td>60</td>\n",
              "      <td>2022-03-16</td>\n",
              "      <td>Female</td>\n",
              "      <td>159.000000</td>\n",
              "      <td>80.000000</td>\n",
              "      <td>102</td>\n",
              "      <td>126</td>\n",
              "      <td>334.500000</td>\n",
              "      <td>Dipa, Catherine</td>\n",
              "      <td>Dipa</td>\n",
              "      <td>Catherine</td>\n",
              "    </tr>\n",
              "    <tr>\n",
              "      <th>12</th>\n",
              "      <td>450</td>\n",
              "      <td>2022-03-16</td>\n",
              "      <td>Male</td>\n",
              "      <td>192.000000</td>\n",
              "      <td>91.000000</td>\n",
              "      <td>100</td>\n",
              "      <td>120</td>\n",
              "      <td>250.000000</td>\n",
              "      <td>Jim, Jony</td>\n",
              "      <td>Jim</td>\n",
              "      <td>Jony</td>\n",
              "    </tr>\n",
              "    <tr>\n",
              "      <th>13</th>\n",
              "      <td>45</td>\n",
              "      <td>2022-03-16</td>\n",
              "      <td>Male</td>\n",
              "      <td>155.000000</td>\n",
              "      <td>51.000000</td>\n",
              "      <td>92</td>\n",
              "      <td>118</td>\n",
              "      <td>241.000000</td>\n",
              "      <td>Divya, Catherine</td>\n",
              "      <td>Divya</td>\n",
              "      <td>Catherine</td>\n",
              "    </tr>\n",
              "    <tr>\n",
              "      <th>14</th>\n",
              "      <td>50</td>\n",
              "      <td>2022-03-16</td>\n",
              "      <td>Gender</td>\n",
              "      <td>191.000000</td>\n",
              "      <td>79.000000</td>\n",
              "      <td>103</td>\n",
              "      <td>132</td>\n",
              "      <td>288.085714</td>\n",
              "      <td>Liya, Catherine</td>\n",
              "      <td>Liya</td>\n",
              "      <td>Catherine</td>\n",
              "    </tr>\n",
              "    <tr>\n",
              "      <th>15</th>\n",
              "      <td>60</td>\n",
              "      <td>2022-03-16</td>\n",
              "      <td>Male</td>\n",
              "      <td>153.000000</td>\n",
              "      <td>70.000000</td>\n",
              "      <td>97</td>\n",
              "      <td>132</td>\n",
              "      <td>280.000000</td>\n",
              "      <td>Jack, Jony</td>\n",
              "      <td>Jack</td>\n",
              "      <td>Jony</td>\n",
              "    </tr>\n",
              "  </tbody>\n",
              "</table>\n",
              "</div>\n",
              "      <button class=\"colab-df-convert\" onclick=\"convertToInteractive('df-fe861d86-b663-47f5-b0c6-c166513a57bd')\"\n",
              "              title=\"Convert this dataframe to an interactive table.\"\n",
              "              style=\"display:none;\">\n",
              "        \n",
              "  <svg xmlns=\"http://www.w3.org/2000/svg\" height=\"24px\"viewBox=\"0 0 24 24\"\n",
              "       width=\"24px\">\n",
              "    <path d=\"M0 0h24v24H0V0z\" fill=\"none\"/>\n",
              "    <path d=\"M18.56 5.44l.94 2.06.94-2.06 2.06-.94-2.06-.94-.94-2.06-.94 2.06-2.06.94zm-11 1L8.5 8.5l.94-2.06 2.06-.94-2.06-.94L8.5 2.5l-.94 2.06-2.06.94zm10 10l.94 2.06.94-2.06 2.06-.94-2.06-.94-.94-2.06-.94 2.06-2.06.94z\"/><path d=\"M17.41 7.96l-1.37-1.37c-.4-.4-.92-.59-1.43-.59-.52 0-1.04.2-1.43.59L10.3 9.45l-7.72 7.72c-.78.78-.78 2.05 0 2.83L4 21.41c.39.39.9.59 1.41.59.51 0 1.02-.2 1.41-.59l7.78-7.78 2.81-2.81c.8-.78.8-2.07 0-2.86zM5.41 20L4 18.59l7.72-7.72 1.47 1.35L5.41 20z\"/>\n",
              "  </svg>\n",
              "      </button>\n",
              "      \n",
              "  <style>\n",
              "    .colab-df-container {\n",
              "      display:flex;\n",
              "      flex-wrap:wrap;\n",
              "      gap: 12px;\n",
              "    }\n",
              "\n",
              "    .colab-df-convert {\n",
              "      background-color: #E8F0FE;\n",
              "      border: none;\n",
              "      border-radius: 50%;\n",
              "      cursor: pointer;\n",
              "      display: none;\n",
              "      fill: #1967D2;\n",
              "      height: 32px;\n",
              "      padding: 0 0 0 0;\n",
              "      width: 32px;\n",
              "    }\n",
              "\n",
              "    .colab-df-convert:hover {\n",
              "      background-color: #E2EBFA;\n",
              "      box-shadow: 0px 1px 2px rgba(60, 64, 67, 0.3), 0px 1px 3px 1px rgba(60, 64, 67, 0.15);\n",
              "      fill: #174EA6;\n",
              "    }\n",
              "\n",
              "    [theme=dark] .colab-df-convert {\n",
              "      background-color: #3B4455;\n",
              "      fill: #D2E3FC;\n",
              "    }\n",
              "\n",
              "    [theme=dark] .colab-df-convert:hover {\n",
              "      background-color: #434B5C;\n",
              "      box-shadow: 0px 1px 3px 1px rgba(0, 0, 0, 0.15);\n",
              "      filter: drop-shadow(0px 1px 2px rgba(0, 0, 0, 0.3));\n",
              "      fill: #FFFFFF;\n",
              "    }\n",
              "  </style>\n",
              "\n",
              "      <script>\n",
              "        const buttonEl =\n",
              "          document.querySelector('#df-fe861d86-b663-47f5-b0c6-c166513a57bd button.colab-df-convert');\n",
              "        buttonEl.style.display =\n",
              "          google.colab.kernel.accessAllowed ? 'block' : 'none';\n",
              "\n",
              "        async function convertToInteractive(key) {\n",
              "          const element = document.querySelector('#df-fe861d86-b663-47f5-b0c6-c166513a57bd');\n",
              "          const dataTable =\n",
              "            await google.colab.kernel.invokeFunction('convertToInteractive',\n",
              "                                                     [key], {});\n",
              "          if (!dataTable) return;\n",
              "\n",
              "          const docLinkHtml = 'Like what you see? Visit the ' +\n",
              "            '<a target=\"_blank\" href=https://colab.research.google.com/notebooks/data_table.ipynb>data table notebook</a>'\n",
              "            + ' to learn more about interactive tables.';\n",
              "          element.innerHTML = '';\n",
              "          dataTable['output_type'] = 'display_data';\n",
              "          await google.colab.output.renderOutput(dataTable, element);\n",
              "          const docLink = document.createElement('div');\n",
              "          docLink.innerHTML = docLinkHtml;\n",
              "          element.appendChild(docLink);\n",
              "        }\n",
              "      </script>\n",
              "    </div>\n",
              "  </div>\n",
              "  "
            ]
          },
          "metadata": {},
          "execution_count": 173
        }
      ]
    },
    {
      "cell_type": "code",
      "source": [
        "data.drop('Name Doctor',axis=1,inplace=True)\n",
        "data"
      ],
      "metadata": {
        "colab": {
          "base_uri": "https://localhost:8080/",
          "height": 551
        },
        "id": "Ptg-IHcEhR3n",
        "outputId": "04188257-f89d-44ad-8dde-a93a35feed1a"
      },
      "execution_count": 174,
      "outputs": [
        {
          "output_type": "execute_result",
          "data": {
            "text/plain": [
              "    Duration       Date  Gender      Height      Weight  Pulse  Maxpulse  \\\n",
              "0         60 2022-03-16    Male  174.000000   96.000000    104       132   \n",
              "1         60 2022-03-16  Female  189.000000   87.000000     98       123   \n",
              "2         60 2022-03-16  Female  185.000000  110.000000     98       120   \n",
              "3        500 2022-03-16    Male  195.000000  104.000000    100       120   \n",
              "4         60 2022-03-16    Male  149.000000   61.000000     90       112   \n",
              "5         60 2022-03-16    Male  189.000000  104.000000    103       123   \n",
              "6         60 2022-03-16    Male  147.000000   86.071429     97       125   \n",
              "7         60 2022-03-16    Male  172.928571  101.000000    108       131   \n",
              "8         45 2022-03-16  Female  174.000000   90.000000    100       119   \n",
              "9         50 2022-03-16    Male  169.000000   86.071429    130       101   \n",
              "10       450 2022-03-16  Female  172.928571   81.000000    105       132   \n",
              "11        60 2022-03-16  Female  159.000000   80.000000    102       126   \n",
              "12       450 2022-03-16    Male  192.000000   91.000000    100       120   \n",
              "13        45 2022-03-16    Male  155.000000   51.000000     92       118   \n",
              "14        50 2022-03-16  Gender  191.000000   79.000000    103       132   \n",
              "15        60 2022-03-16    Male  153.000000   70.000000     97       132   \n",
              "\n",
              "      Calories     Name      Doctor  \n",
              "0   379.300000  Christy   Catherine  \n",
              "1   275.000000   Mukund   Catherine  \n",
              "2   215.200000  Aswathy   Catherine  \n",
              "3   300.000000     Phil   Catherine  \n",
              "4   288.085714    Vince   Catherine  \n",
              "5   323.000000  Akshaya        Jony  \n",
              "6   243.000000     Ajay        Jony  \n",
              "7   364.200000      Jay        Jony  \n",
              "8   282.000000    Shyam   Catherine  \n",
              "9   300.000000     Neha   Catherine  \n",
              "10  246.000000    Mehru   Catherine  \n",
              "11  334.500000     Dipa   Catherine  \n",
              "12  250.000000      Jim        Jony  \n",
              "13  241.000000    Divya   Catherine  \n",
              "14  288.085714     Liya   Catherine  \n",
              "15  280.000000     Jack        Jony  "
            ],
            "text/html": [
              "\n",
              "  <div id=\"df-66788947-58a1-4b39-84d5-cb4159baa3ab\">\n",
              "    <div class=\"colab-df-container\">\n",
              "      <div>\n",
              "<style scoped>\n",
              "    .dataframe tbody tr th:only-of-type {\n",
              "        vertical-align: middle;\n",
              "    }\n",
              "\n",
              "    .dataframe tbody tr th {\n",
              "        vertical-align: top;\n",
              "    }\n",
              "\n",
              "    .dataframe thead th {\n",
              "        text-align: right;\n",
              "    }\n",
              "</style>\n",
              "<table border=\"1\" class=\"dataframe\">\n",
              "  <thead>\n",
              "    <tr style=\"text-align: right;\">\n",
              "      <th></th>\n",
              "      <th>Duration</th>\n",
              "      <th>Date</th>\n",
              "      <th>Gender</th>\n",
              "      <th>Height</th>\n",
              "      <th>Weight</th>\n",
              "      <th>Pulse</th>\n",
              "      <th>Maxpulse</th>\n",
              "      <th>Calories</th>\n",
              "      <th>Name</th>\n",
              "      <th>Doctor</th>\n",
              "    </tr>\n",
              "  </thead>\n",
              "  <tbody>\n",
              "    <tr>\n",
              "      <th>0</th>\n",
              "      <td>60</td>\n",
              "      <td>2022-03-16</td>\n",
              "      <td>Male</td>\n",
              "      <td>174.000000</td>\n",
              "      <td>96.000000</td>\n",
              "      <td>104</td>\n",
              "      <td>132</td>\n",
              "      <td>379.300000</td>\n",
              "      <td>Christy</td>\n",
              "      <td>Catherine</td>\n",
              "    </tr>\n",
              "    <tr>\n",
              "      <th>1</th>\n",
              "      <td>60</td>\n",
              "      <td>2022-03-16</td>\n",
              "      <td>Female</td>\n",
              "      <td>189.000000</td>\n",
              "      <td>87.000000</td>\n",
              "      <td>98</td>\n",
              "      <td>123</td>\n",
              "      <td>275.000000</td>\n",
              "      <td>Mukund</td>\n",
              "      <td>Catherine</td>\n",
              "    </tr>\n",
              "    <tr>\n",
              "      <th>2</th>\n",
              "      <td>60</td>\n",
              "      <td>2022-03-16</td>\n",
              "      <td>Female</td>\n",
              "      <td>185.000000</td>\n",
              "      <td>110.000000</td>\n",
              "      <td>98</td>\n",
              "      <td>120</td>\n",
              "      <td>215.200000</td>\n",
              "      <td>Aswathy</td>\n",
              "      <td>Catherine</td>\n",
              "    </tr>\n",
              "    <tr>\n",
              "      <th>3</th>\n",
              "      <td>500</td>\n",
              "      <td>2022-03-16</td>\n",
              "      <td>Male</td>\n",
              "      <td>195.000000</td>\n",
              "      <td>104.000000</td>\n",
              "      <td>100</td>\n",
              "      <td>120</td>\n",
              "      <td>300.000000</td>\n",
              "      <td>Phil</td>\n",
              "      <td>Catherine</td>\n",
              "    </tr>\n",
              "    <tr>\n",
              "      <th>4</th>\n",
              "      <td>60</td>\n",
              "      <td>2022-03-16</td>\n",
              "      <td>Male</td>\n",
              "      <td>149.000000</td>\n",
              "      <td>61.000000</td>\n",
              "      <td>90</td>\n",
              "      <td>112</td>\n",
              "      <td>288.085714</td>\n",
              "      <td>Vince</td>\n",
              "      <td>Catherine</td>\n",
              "    </tr>\n",
              "    <tr>\n",
              "      <th>5</th>\n",
              "      <td>60</td>\n",
              "      <td>2022-03-16</td>\n",
              "      <td>Male</td>\n",
              "      <td>189.000000</td>\n",
              "      <td>104.000000</td>\n",
              "      <td>103</td>\n",
              "      <td>123</td>\n",
              "      <td>323.000000</td>\n",
              "      <td>Akshaya</td>\n",
              "      <td>Jony</td>\n",
              "    </tr>\n",
              "    <tr>\n",
              "      <th>6</th>\n",
              "      <td>60</td>\n",
              "      <td>2022-03-16</td>\n",
              "      <td>Male</td>\n",
              "      <td>147.000000</td>\n",
              "      <td>86.071429</td>\n",
              "      <td>97</td>\n",
              "      <td>125</td>\n",
              "      <td>243.000000</td>\n",
              "      <td>Ajay</td>\n",
              "      <td>Jony</td>\n",
              "    </tr>\n",
              "    <tr>\n",
              "      <th>7</th>\n",
              "      <td>60</td>\n",
              "      <td>2022-03-16</td>\n",
              "      <td>Male</td>\n",
              "      <td>172.928571</td>\n",
              "      <td>101.000000</td>\n",
              "      <td>108</td>\n",
              "      <td>131</td>\n",
              "      <td>364.200000</td>\n",
              "      <td>Jay</td>\n",
              "      <td>Jony</td>\n",
              "    </tr>\n",
              "    <tr>\n",
              "      <th>8</th>\n",
              "      <td>45</td>\n",
              "      <td>2022-03-16</td>\n",
              "      <td>Female</td>\n",
              "      <td>174.000000</td>\n",
              "      <td>90.000000</td>\n",
              "      <td>100</td>\n",
              "      <td>119</td>\n",
              "      <td>282.000000</td>\n",
              "      <td>Shyam</td>\n",
              "      <td>Catherine</td>\n",
              "    </tr>\n",
              "    <tr>\n",
              "      <th>9</th>\n",
              "      <td>50</td>\n",
              "      <td>2022-03-16</td>\n",
              "      <td>Male</td>\n",
              "      <td>169.000000</td>\n",
              "      <td>86.071429</td>\n",
              "      <td>130</td>\n",
              "      <td>101</td>\n",
              "      <td>300.000000</td>\n",
              "      <td>Neha</td>\n",
              "      <td>Catherine</td>\n",
              "    </tr>\n",
              "    <tr>\n",
              "      <th>10</th>\n",
              "      <td>450</td>\n",
              "      <td>2022-03-16</td>\n",
              "      <td>Female</td>\n",
              "      <td>172.928571</td>\n",
              "      <td>81.000000</td>\n",
              "      <td>105</td>\n",
              "      <td>132</td>\n",
              "      <td>246.000000</td>\n",
              "      <td>Mehru</td>\n",
              "      <td>Catherine</td>\n",
              "    </tr>\n",
              "    <tr>\n",
              "      <th>11</th>\n",
              "      <td>60</td>\n",
              "      <td>2022-03-16</td>\n",
              "      <td>Female</td>\n",
              "      <td>159.000000</td>\n",
              "      <td>80.000000</td>\n",
              "      <td>102</td>\n",
              "      <td>126</td>\n",
              "      <td>334.500000</td>\n",
              "      <td>Dipa</td>\n",
              "      <td>Catherine</td>\n",
              "    </tr>\n",
              "    <tr>\n",
              "      <th>12</th>\n",
              "      <td>450</td>\n",
              "      <td>2022-03-16</td>\n",
              "      <td>Male</td>\n",
              "      <td>192.000000</td>\n",
              "      <td>91.000000</td>\n",
              "      <td>100</td>\n",
              "      <td>120</td>\n",
              "      <td>250.000000</td>\n",
              "      <td>Jim</td>\n",
              "      <td>Jony</td>\n",
              "    </tr>\n",
              "    <tr>\n",
              "      <th>13</th>\n",
              "      <td>45</td>\n",
              "      <td>2022-03-16</td>\n",
              "      <td>Male</td>\n",
              "      <td>155.000000</td>\n",
              "      <td>51.000000</td>\n",
              "      <td>92</td>\n",
              "      <td>118</td>\n",
              "      <td>241.000000</td>\n",
              "      <td>Divya</td>\n",
              "      <td>Catherine</td>\n",
              "    </tr>\n",
              "    <tr>\n",
              "      <th>14</th>\n",
              "      <td>50</td>\n",
              "      <td>2022-03-16</td>\n",
              "      <td>Gender</td>\n",
              "      <td>191.000000</td>\n",
              "      <td>79.000000</td>\n",
              "      <td>103</td>\n",
              "      <td>132</td>\n",
              "      <td>288.085714</td>\n",
              "      <td>Liya</td>\n",
              "      <td>Catherine</td>\n",
              "    </tr>\n",
              "    <tr>\n",
              "      <th>15</th>\n",
              "      <td>60</td>\n",
              "      <td>2022-03-16</td>\n",
              "      <td>Male</td>\n",
              "      <td>153.000000</td>\n",
              "      <td>70.000000</td>\n",
              "      <td>97</td>\n",
              "      <td>132</td>\n",
              "      <td>280.000000</td>\n",
              "      <td>Jack</td>\n",
              "      <td>Jony</td>\n",
              "    </tr>\n",
              "  </tbody>\n",
              "</table>\n",
              "</div>\n",
              "      <button class=\"colab-df-convert\" onclick=\"convertToInteractive('df-66788947-58a1-4b39-84d5-cb4159baa3ab')\"\n",
              "              title=\"Convert this dataframe to an interactive table.\"\n",
              "              style=\"display:none;\">\n",
              "        \n",
              "  <svg xmlns=\"http://www.w3.org/2000/svg\" height=\"24px\"viewBox=\"0 0 24 24\"\n",
              "       width=\"24px\">\n",
              "    <path d=\"M0 0h24v24H0V0z\" fill=\"none\"/>\n",
              "    <path d=\"M18.56 5.44l.94 2.06.94-2.06 2.06-.94-2.06-.94-.94-2.06-.94 2.06-2.06.94zm-11 1L8.5 8.5l.94-2.06 2.06-.94-2.06-.94L8.5 2.5l-.94 2.06-2.06.94zm10 10l.94 2.06.94-2.06 2.06-.94-2.06-.94-.94-2.06-.94 2.06-2.06.94z\"/><path d=\"M17.41 7.96l-1.37-1.37c-.4-.4-.92-.59-1.43-.59-.52 0-1.04.2-1.43.59L10.3 9.45l-7.72 7.72c-.78.78-.78 2.05 0 2.83L4 21.41c.39.39.9.59 1.41.59.51 0 1.02-.2 1.41-.59l7.78-7.78 2.81-2.81c.8-.78.8-2.07 0-2.86zM5.41 20L4 18.59l7.72-7.72 1.47 1.35L5.41 20z\"/>\n",
              "  </svg>\n",
              "      </button>\n",
              "      \n",
              "  <style>\n",
              "    .colab-df-container {\n",
              "      display:flex;\n",
              "      flex-wrap:wrap;\n",
              "      gap: 12px;\n",
              "    }\n",
              "\n",
              "    .colab-df-convert {\n",
              "      background-color: #E8F0FE;\n",
              "      border: none;\n",
              "      border-radius: 50%;\n",
              "      cursor: pointer;\n",
              "      display: none;\n",
              "      fill: #1967D2;\n",
              "      height: 32px;\n",
              "      padding: 0 0 0 0;\n",
              "      width: 32px;\n",
              "    }\n",
              "\n",
              "    .colab-df-convert:hover {\n",
              "      background-color: #E2EBFA;\n",
              "      box-shadow: 0px 1px 2px rgba(60, 64, 67, 0.3), 0px 1px 3px 1px rgba(60, 64, 67, 0.15);\n",
              "      fill: #174EA6;\n",
              "    }\n",
              "\n",
              "    [theme=dark] .colab-df-convert {\n",
              "      background-color: #3B4455;\n",
              "      fill: #D2E3FC;\n",
              "    }\n",
              "\n",
              "    [theme=dark] .colab-df-convert:hover {\n",
              "      background-color: #434B5C;\n",
              "      box-shadow: 0px 1px 3px 1px rgba(0, 0, 0, 0.15);\n",
              "      filter: drop-shadow(0px 1px 2px rgba(0, 0, 0, 0.3));\n",
              "      fill: #FFFFFF;\n",
              "    }\n",
              "  </style>\n",
              "\n",
              "      <script>\n",
              "        const buttonEl =\n",
              "          document.querySelector('#df-66788947-58a1-4b39-84d5-cb4159baa3ab button.colab-df-convert');\n",
              "        buttonEl.style.display =\n",
              "          google.colab.kernel.accessAllowed ? 'block' : 'none';\n",
              "\n",
              "        async function convertToInteractive(key) {\n",
              "          const element = document.querySelector('#df-66788947-58a1-4b39-84d5-cb4159baa3ab');\n",
              "          const dataTable =\n",
              "            await google.colab.kernel.invokeFunction('convertToInteractive',\n",
              "                                                     [key], {});\n",
              "          if (!dataTable) return;\n",
              "\n",
              "          const docLinkHtml = 'Like what you see? Visit the ' +\n",
              "            '<a target=\"_blank\" href=https://colab.research.google.com/notebooks/data_table.ipynb>data table notebook</a>'\n",
              "            + ' to learn more about interactive tables.';\n",
              "          element.innerHTML = '';\n",
              "          dataTable['output_type'] = 'display_data';\n",
              "          await google.colab.output.renderOutput(dataTable, element);\n",
              "          const docLink = document.createElement('div');\n",
              "          docLink.innerHTML = docLinkHtml;\n",
              "          element.appendChild(docLink);\n",
              "        }\n",
              "      </script>\n",
              "    </div>\n",
              "  </div>\n",
              "  "
            ]
          },
          "metadata": {},
          "execution_count": 174
        }
      ]
    },
    {
      "cell_type": "code",
      "source": [
        "data.info()"
      ],
      "metadata": {
        "colab": {
          "base_uri": "https://localhost:8080/"
        },
        "id": "uw8mI0jajSAz",
        "outputId": "38f4e6ed-fda3-4bb4-a143-ad7164ddb3c5"
      },
      "execution_count": 175,
      "outputs": [
        {
          "output_type": "stream",
          "name": "stdout",
          "text": [
            "<class 'pandas.core.frame.DataFrame'>\n",
            "RangeIndex: 16 entries, 0 to 15\n",
            "Data columns (total 10 columns):\n",
            " #   Column    Non-Null Count  Dtype         \n",
            "---  ------    --------------  -----         \n",
            " 0   Duration  16 non-null     int64         \n",
            " 1   Date      16 non-null     datetime64[ns]\n",
            " 2   Gender    16 non-null     object        \n",
            " 3   Height    16 non-null     float64       \n",
            " 4   Weight    16 non-null     float64       \n",
            " 5   Pulse     16 non-null     int64         \n",
            " 6   Maxpulse  16 non-null     int64         \n",
            " 7   Calories  16 non-null     float64       \n",
            " 8   Name      16 non-null     object        \n",
            " 9   Doctor    16 non-null     object        \n",
            "dtypes: datetime64[ns](1), float64(3), int64(3), object(3)\n",
            "memory usage: 1.4+ KB\n"
          ]
        }
      ]
    },
    {
      "cell_type": "code",
      "source": [
        "data.loc[data['Duration']>100,'Duration']=(data.loc[data['Duration']>100,'Duration'].astype(float)/10).astype(int)\n",
        "#replacing incorrect values in Duration by correct values.\n",
        "data"
      ],
      "metadata": {
        "colab": {
          "base_uri": "https://localhost:8080/",
          "height": 551
        },
        "id": "YRKVwcFuiIcl",
        "outputId": "2d794ab3-9701-4d33-c514-93363a1876c1"
      },
      "execution_count": 176,
      "outputs": [
        {
          "output_type": "execute_result",
          "data": {
            "text/plain": [
              "    Duration       Date  Gender      Height      Weight  Pulse  Maxpulse  \\\n",
              "0         60 2022-03-16    Male  174.000000   96.000000    104       132   \n",
              "1         60 2022-03-16  Female  189.000000   87.000000     98       123   \n",
              "2         60 2022-03-16  Female  185.000000  110.000000     98       120   \n",
              "3         50 2022-03-16    Male  195.000000  104.000000    100       120   \n",
              "4         60 2022-03-16    Male  149.000000   61.000000     90       112   \n",
              "5         60 2022-03-16    Male  189.000000  104.000000    103       123   \n",
              "6         60 2022-03-16    Male  147.000000   86.071429     97       125   \n",
              "7         60 2022-03-16    Male  172.928571  101.000000    108       131   \n",
              "8         45 2022-03-16  Female  174.000000   90.000000    100       119   \n",
              "9         50 2022-03-16    Male  169.000000   86.071429    130       101   \n",
              "10        45 2022-03-16  Female  172.928571   81.000000    105       132   \n",
              "11        60 2022-03-16  Female  159.000000   80.000000    102       126   \n",
              "12        45 2022-03-16    Male  192.000000   91.000000    100       120   \n",
              "13        45 2022-03-16    Male  155.000000   51.000000     92       118   \n",
              "14        50 2022-03-16  Gender  191.000000   79.000000    103       132   \n",
              "15        60 2022-03-16    Male  153.000000   70.000000     97       132   \n",
              "\n",
              "      Calories     Name      Doctor  \n",
              "0   379.300000  Christy   Catherine  \n",
              "1   275.000000   Mukund   Catherine  \n",
              "2   215.200000  Aswathy   Catherine  \n",
              "3   300.000000     Phil   Catherine  \n",
              "4   288.085714    Vince   Catherine  \n",
              "5   323.000000  Akshaya        Jony  \n",
              "6   243.000000     Ajay        Jony  \n",
              "7   364.200000      Jay        Jony  \n",
              "8   282.000000    Shyam   Catherine  \n",
              "9   300.000000     Neha   Catherine  \n",
              "10  246.000000    Mehru   Catherine  \n",
              "11  334.500000     Dipa   Catherine  \n",
              "12  250.000000      Jim        Jony  \n",
              "13  241.000000    Divya   Catherine  \n",
              "14  288.085714     Liya   Catherine  \n",
              "15  280.000000     Jack        Jony  "
            ],
            "text/html": [
              "\n",
              "  <div id=\"df-4d03897c-8723-42ed-aa88-7398298d716a\">\n",
              "    <div class=\"colab-df-container\">\n",
              "      <div>\n",
              "<style scoped>\n",
              "    .dataframe tbody tr th:only-of-type {\n",
              "        vertical-align: middle;\n",
              "    }\n",
              "\n",
              "    .dataframe tbody tr th {\n",
              "        vertical-align: top;\n",
              "    }\n",
              "\n",
              "    .dataframe thead th {\n",
              "        text-align: right;\n",
              "    }\n",
              "</style>\n",
              "<table border=\"1\" class=\"dataframe\">\n",
              "  <thead>\n",
              "    <tr style=\"text-align: right;\">\n",
              "      <th></th>\n",
              "      <th>Duration</th>\n",
              "      <th>Date</th>\n",
              "      <th>Gender</th>\n",
              "      <th>Height</th>\n",
              "      <th>Weight</th>\n",
              "      <th>Pulse</th>\n",
              "      <th>Maxpulse</th>\n",
              "      <th>Calories</th>\n",
              "      <th>Name</th>\n",
              "      <th>Doctor</th>\n",
              "    </tr>\n",
              "  </thead>\n",
              "  <tbody>\n",
              "    <tr>\n",
              "      <th>0</th>\n",
              "      <td>60</td>\n",
              "      <td>2022-03-16</td>\n",
              "      <td>Male</td>\n",
              "      <td>174.000000</td>\n",
              "      <td>96.000000</td>\n",
              "      <td>104</td>\n",
              "      <td>132</td>\n",
              "      <td>379.300000</td>\n",
              "      <td>Christy</td>\n",
              "      <td>Catherine</td>\n",
              "    </tr>\n",
              "    <tr>\n",
              "      <th>1</th>\n",
              "      <td>60</td>\n",
              "      <td>2022-03-16</td>\n",
              "      <td>Female</td>\n",
              "      <td>189.000000</td>\n",
              "      <td>87.000000</td>\n",
              "      <td>98</td>\n",
              "      <td>123</td>\n",
              "      <td>275.000000</td>\n",
              "      <td>Mukund</td>\n",
              "      <td>Catherine</td>\n",
              "    </tr>\n",
              "    <tr>\n",
              "      <th>2</th>\n",
              "      <td>60</td>\n",
              "      <td>2022-03-16</td>\n",
              "      <td>Female</td>\n",
              "      <td>185.000000</td>\n",
              "      <td>110.000000</td>\n",
              "      <td>98</td>\n",
              "      <td>120</td>\n",
              "      <td>215.200000</td>\n",
              "      <td>Aswathy</td>\n",
              "      <td>Catherine</td>\n",
              "    </tr>\n",
              "    <tr>\n",
              "      <th>3</th>\n",
              "      <td>50</td>\n",
              "      <td>2022-03-16</td>\n",
              "      <td>Male</td>\n",
              "      <td>195.000000</td>\n",
              "      <td>104.000000</td>\n",
              "      <td>100</td>\n",
              "      <td>120</td>\n",
              "      <td>300.000000</td>\n",
              "      <td>Phil</td>\n",
              "      <td>Catherine</td>\n",
              "    </tr>\n",
              "    <tr>\n",
              "      <th>4</th>\n",
              "      <td>60</td>\n",
              "      <td>2022-03-16</td>\n",
              "      <td>Male</td>\n",
              "      <td>149.000000</td>\n",
              "      <td>61.000000</td>\n",
              "      <td>90</td>\n",
              "      <td>112</td>\n",
              "      <td>288.085714</td>\n",
              "      <td>Vince</td>\n",
              "      <td>Catherine</td>\n",
              "    </tr>\n",
              "    <tr>\n",
              "      <th>5</th>\n",
              "      <td>60</td>\n",
              "      <td>2022-03-16</td>\n",
              "      <td>Male</td>\n",
              "      <td>189.000000</td>\n",
              "      <td>104.000000</td>\n",
              "      <td>103</td>\n",
              "      <td>123</td>\n",
              "      <td>323.000000</td>\n",
              "      <td>Akshaya</td>\n",
              "      <td>Jony</td>\n",
              "    </tr>\n",
              "    <tr>\n",
              "      <th>6</th>\n",
              "      <td>60</td>\n",
              "      <td>2022-03-16</td>\n",
              "      <td>Male</td>\n",
              "      <td>147.000000</td>\n",
              "      <td>86.071429</td>\n",
              "      <td>97</td>\n",
              "      <td>125</td>\n",
              "      <td>243.000000</td>\n",
              "      <td>Ajay</td>\n",
              "      <td>Jony</td>\n",
              "    </tr>\n",
              "    <tr>\n",
              "      <th>7</th>\n",
              "      <td>60</td>\n",
              "      <td>2022-03-16</td>\n",
              "      <td>Male</td>\n",
              "      <td>172.928571</td>\n",
              "      <td>101.000000</td>\n",
              "      <td>108</td>\n",
              "      <td>131</td>\n",
              "      <td>364.200000</td>\n",
              "      <td>Jay</td>\n",
              "      <td>Jony</td>\n",
              "    </tr>\n",
              "    <tr>\n",
              "      <th>8</th>\n",
              "      <td>45</td>\n",
              "      <td>2022-03-16</td>\n",
              "      <td>Female</td>\n",
              "      <td>174.000000</td>\n",
              "      <td>90.000000</td>\n",
              "      <td>100</td>\n",
              "      <td>119</td>\n",
              "      <td>282.000000</td>\n",
              "      <td>Shyam</td>\n",
              "      <td>Catherine</td>\n",
              "    </tr>\n",
              "    <tr>\n",
              "      <th>9</th>\n",
              "      <td>50</td>\n",
              "      <td>2022-03-16</td>\n",
              "      <td>Male</td>\n",
              "      <td>169.000000</td>\n",
              "      <td>86.071429</td>\n",
              "      <td>130</td>\n",
              "      <td>101</td>\n",
              "      <td>300.000000</td>\n",
              "      <td>Neha</td>\n",
              "      <td>Catherine</td>\n",
              "    </tr>\n",
              "    <tr>\n",
              "      <th>10</th>\n",
              "      <td>45</td>\n",
              "      <td>2022-03-16</td>\n",
              "      <td>Female</td>\n",
              "      <td>172.928571</td>\n",
              "      <td>81.000000</td>\n",
              "      <td>105</td>\n",
              "      <td>132</td>\n",
              "      <td>246.000000</td>\n",
              "      <td>Mehru</td>\n",
              "      <td>Catherine</td>\n",
              "    </tr>\n",
              "    <tr>\n",
              "      <th>11</th>\n",
              "      <td>60</td>\n",
              "      <td>2022-03-16</td>\n",
              "      <td>Female</td>\n",
              "      <td>159.000000</td>\n",
              "      <td>80.000000</td>\n",
              "      <td>102</td>\n",
              "      <td>126</td>\n",
              "      <td>334.500000</td>\n",
              "      <td>Dipa</td>\n",
              "      <td>Catherine</td>\n",
              "    </tr>\n",
              "    <tr>\n",
              "      <th>12</th>\n",
              "      <td>45</td>\n",
              "      <td>2022-03-16</td>\n",
              "      <td>Male</td>\n",
              "      <td>192.000000</td>\n",
              "      <td>91.000000</td>\n",
              "      <td>100</td>\n",
              "      <td>120</td>\n",
              "      <td>250.000000</td>\n",
              "      <td>Jim</td>\n",
              "      <td>Jony</td>\n",
              "    </tr>\n",
              "    <tr>\n",
              "      <th>13</th>\n",
              "      <td>45</td>\n",
              "      <td>2022-03-16</td>\n",
              "      <td>Male</td>\n",
              "      <td>155.000000</td>\n",
              "      <td>51.000000</td>\n",
              "      <td>92</td>\n",
              "      <td>118</td>\n",
              "      <td>241.000000</td>\n",
              "      <td>Divya</td>\n",
              "      <td>Catherine</td>\n",
              "    </tr>\n",
              "    <tr>\n",
              "      <th>14</th>\n",
              "      <td>50</td>\n",
              "      <td>2022-03-16</td>\n",
              "      <td>Gender</td>\n",
              "      <td>191.000000</td>\n",
              "      <td>79.000000</td>\n",
              "      <td>103</td>\n",
              "      <td>132</td>\n",
              "      <td>288.085714</td>\n",
              "      <td>Liya</td>\n",
              "      <td>Catherine</td>\n",
              "    </tr>\n",
              "    <tr>\n",
              "      <th>15</th>\n",
              "      <td>60</td>\n",
              "      <td>2022-03-16</td>\n",
              "      <td>Male</td>\n",
              "      <td>153.000000</td>\n",
              "      <td>70.000000</td>\n",
              "      <td>97</td>\n",
              "      <td>132</td>\n",
              "      <td>280.000000</td>\n",
              "      <td>Jack</td>\n",
              "      <td>Jony</td>\n",
              "    </tr>\n",
              "  </tbody>\n",
              "</table>\n",
              "</div>\n",
              "      <button class=\"colab-df-convert\" onclick=\"convertToInteractive('df-4d03897c-8723-42ed-aa88-7398298d716a')\"\n",
              "              title=\"Convert this dataframe to an interactive table.\"\n",
              "              style=\"display:none;\">\n",
              "        \n",
              "  <svg xmlns=\"http://www.w3.org/2000/svg\" height=\"24px\"viewBox=\"0 0 24 24\"\n",
              "       width=\"24px\">\n",
              "    <path d=\"M0 0h24v24H0V0z\" fill=\"none\"/>\n",
              "    <path d=\"M18.56 5.44l.94 2.06.94-2.06 2.06-.94-2.06-.94-.94-2.06-.94 2.06-2.06.94zm-11 1L8.5 8.5l.94-2.06 2.06-.94-2.06-.94L8.5 2.5l-.94 2.06-2.06.94zm10 10l.94 2.06.94-2.06 2.06-.94-2.06-.94-.94-2.06-.94 2.06-2.06.94z\"/><path d=\"M17.41 7.96l-1.37-1.37c-.4-.4-.92-.59-1.43-.59-.52 0-1.04.2-1.43.59L10.3 9.45l-7.72 7.72c-.78.78-.78 2.05 0 2.83L4 21.41c.39.39.9.59 1.41.59.51 0 1.02-.2 1.41-.59l7.78-7.78 2.81-2.81c.8-.78.8-2.07 0-2.86zM5.41 20L4 18.59l7.72-7.72 1.47 1.35L5.41 20z\"/>\n",
              "  </svg>\n",
              "      </button>\n",
              "      \n",
              "  <style>\n",
              "    .colab-df-container {\n",
              "      display:flex;\n",
              "      flex-wrap:wrap;\n",
              "      gap: 12px;\n",
              "    }\n",
              "\n",
              "    .colab-df-convert {\n",
              "      background-color: #E8F0FE;\n",
              "      border: none;\n",
              "      border-radius: 50%;\n",
              "      cursor: pointer;\n",
              "      display: none;\n",
              "      fill: #1967D2;\n",
              "      height: 32px;\n",
              "      padding: 0 0 0 0;\n",
              "      width: 32px;\n",
              "    }\n",
              "\n",
              "    .colab-df-convert:hover {\n",
              "      background-color: #E2EBFA;\n",
              "      box-shadow: 0px 1px 2px rgba(60, 64, 67, 0.3), 0px 1px 3px 1px rgba(60, 64, 67, 0.15);\n",
              "      fill: #174EA6;\n",
              "    }\n",
              "\n",
              "    [theme=dark] .colab-df-convert {\n",
              "      background-color: #3B4455;\n",
              "      fill: #D2E3FC;\n",
              "    }\n",
              "\n",
              "    [theme=dark] .colab-df-convert:hover {\n",
              "      background-color: #434B5C;\n",
              "      box-shadow: 0px 1px 3px 1px rgba(0, 0, 0, 0.15);\n",
              "      filter: drop-shadow(0px 1px 2px rgba(0, 0, 0, 0.3));\n",
              "      fill: #FFFFFF;\n",
              "    }\n",
              "  </style>\n",
              "\n",
              "      <script>\n",
              "        const buttonEl =\n",
              "          document.querySelector('#df-4d03897c-8723-42ed-aa88-7398298d716a button.colab-df-convert');\n",
              "        buttonEl.style.display =\n",
              "          google.colab.kernel.accessAllowed ? 'block' : 'none';\n",
              "\n",
              "        async function convertToInteractive(key) {\n",
              "          const element = document.querySelector('#df-4d03897c-8723-42ed-aa88-7398298d716a');\n",
              "          const dataTable =\n",
              "            await google.colab.kernel.invokeFunction('convertToInteractive',\n",
              "                                                     [key], {});\n",
              "          if (!dataTable) return;\n",
              "\n",
              "          const docLinkHtml = 'Like what you see? Visit the ' +\n",
              "            '<a target=\"_blank\" href=https://colab.research.google.com/notebooks/data_table.ipynb>data table notebook</a>'\n",
              "            + ' to learn more about interactive tables.';\n",
              "          element.innerHTML = '';\n",
              "          dataTable['output_type'] = 'display_data';\n",
              "          await google.colab.output.renderOutput(dataTable, element);\n",
              "          const docLink = document.createElement('div');\n",
              "          docLink.innerHTML = docLinkHtml;\n",
              "          element.appendChild(docLink);\n",
              "        }\n",
              "      </script>\n",
              "    </div>\n",
              "  </div>\n",
              "  "
            ]
          },
          "metadata": {},
          "execution_count": 176
        }
      ]
    },
    {
      "cell_type": "code",
      "source": [
        "data.loc[data['Gender']=='Gender','Gender']='Female'\n",
        "#replacing incorrect value in Gender by correct value.\n",
        "data"
      ],
      "metadata": {
        "colab": {
          "base_uri": "https://localhost:8080/",
          "height": 551
        },
        "id": "XgcxphhylDGI",
        "outputId": "08f6e03f-0124-4182-91e2-b5b8eda8d38a"
      },
      "execution_count": 177,
      "outputs": [
        {
          "output_type": "execute_result",
          "data": {
            "text/plain": [
              "    Duration       Date  Gender      Height      Weight  Pulse  Maxpulse  \\\n",
              "0         60 2022-03-16    Male  174.000000   96.000000    104       132   \n",
              "1         60 2022-03-16  Female  189.000000   87.000000     98       123   \n",
              "2         60 2022-03-16  Female  185.000000  110.000000     98       120   \n",
              "3         50 2022-03-16    Male  195.000000  104.000000    100       120   \n",
              "4         60 2022-03-16    Male  149.000000   61.000000     90       112   \n",
              "5         60 2022-03-16    Male  189.000000  104.000000    103       123   \n",
              "6         60 2022-03-16    Male  147.000000   86.071429     97       125   \n",
              "7         60 2022-03-16    Male  172.928571  101.000000    108       131   \n",
              "8         45 2022-03-16  Female  174.000000   90.000000    100       119   \n",
              "9         50 2022-03-16    Male  169.000000   86.071429    130       101   \n",
              "10        45 2022-03-16  Female  172.928571   81.000000    105       132   \n",
              "11        60 2022-03-16  Female  159.000000   80.000000    102       126   \n",
              "12        45 2022-03-16    Male  192.000000   91.000000    100       120   \n",
              "13        45 2022-03-16    Male  155.000000   51.000000     92       118   \n",
              "14        50 2022-03-16  Female  191.000000   79.000000    103       132   \n",
              "15        60 2022-03-16    Male  153.000000   70.000000     97       132   \n",
              "\n",
              "      Calories     Name      Doctor  \n",
              "0   379.300000  Christy   Catherine  \n",
              "1   275.000000   Mukund   Catherine  \n",
              "2   215.200000  Aswathy   Catherine  \n",
              "3   300.000000     Phil   Catherine  \n",
              "4   288.085714    Vince   Catherine  \n",
              "5   323.000000  Akshaya        Jony  \n",
              "6   243.000000     Ajay        Jony  \n",
              "7   364.200000      Jay        Jony  \n",
              "8   282.000000    Shyam   Catherine  \n",
              "9   300.000000     Neha   Catherine  \n",
              "10  246.000000    Mehru   Catherine  \n",
              "11  334.500000     Dipa   Catherine  \n",
              "12  250.000000      Jim        Jony  \n",
              "13  241.000000    Divya   Catherine  \n",
              "14  288.085714     Liya   Catherine  \n",
              "15  280.000000     Jack        Jony  "
            ],
            "text/html": [
              "\n",
              "  <div id=\"df-539c0e72-9564-46f0-ac6f-b60ead85820a\">\n",
              "    <div class=\"colab-df-container\">\n",
              "      <div>\n",
              "<style scoped>\n",
              "    .dataframe tbody tr th:only-of-type {\n",
              "        vertical-align: middle;\n",
              "    }\n",
              "\n",
              "    .dataframe tbody tr th {\n",
              "        vertical-align: top;\n",
              "    }\n",
              "\n",
              "    .dataframe thead th {\n",
              "        text-align: right;\n",
              "    }\n",
              "</style>\n",
              "<table border=\"1\" class=\"dataframe\">\n",
              "  <thead>\n",
              "    <tr style=\"text-align: right;\">\n",
              "      <th></th>\n",
              "      <th>Duration</th>\n",
              "      <th>Date</th>\n",
              "      <th>Gender</th>\n",
              "      <th>Height</th>\n",
              "      <th>Weight</th>\n",
              "      <th>Pulse</th>\n",
              "      <th>Maxpulse</th>\n",
              "      <th>Calories</th>\n",
              "      <th>Name</th>\n",
              "      <th>Doctor</th>\n",
              "    </tr>\n",
              "  </thead>\n",
              "  <tbody>\n",
              "    <tr>\n",
              "      <th>0</th>\n",
              "      <td>60</td>\n",
              "      <td>2022-03-16</td>\n",
              "      <td>Male</td>\n",
              "      <td>174.000000</td>\n",
              "      <td>96.000000</td>\n",
              "      <td>104</td>\n",
              "      <td>132</td>\n",
              "      <td>379.300000</td>\n",
              "      <td>Christy</td>\n",
              "      <td>Catherine</td>\n",
              "    </tr>\n",
              "    <tr>\n",
              "      <th>1</th>\n",
              "      <td>60</td>\n",
              "      <td>2022-03-16</td>\n",
              "      <td>Female</td>\n",
              "      <td>189.000000</td>\n",
              "      <td>87.000000</td>\n",
              "      <td>98</td>\n",
              "      <td>123</td>\n",
              "      <td>275.000000</td>\n",
              "      <td>Mukund</td>\n",
              "      <td>Catherine</td>\n",
              "    </tr>\n",
              "    <tr>\n",
              "      <th>2</th>\n",
              "      <td>60</td>\n",
              "      <td>2022-03-16</td>\n",
              "      <td>Female</td>\n",
              "      <td>185.000000</td>\n",
              "      <td>110.000000</td>\n",
              "      <td>98</td>\n",
              "      <td>120</td>\n",
              "      <td>215.200000</td>\n",
              "      <td>Aswathy</td>\n",
              "      <td>Catherine</td>\n",
              "    </tr>\n",
              "    <tr>\n",
              "      <th>3</th>\n",
              "      <td>50</td>\n",
              "      <td>2022-03-16</td>\n",
              "      <td>Male</td>\n",
              "      <td>195.000000</td>\n",
              "      <td>104.000000</td>\n",
              "      <td>100</td>\n",
              "      <td>120</td>\n",
              "      <td>300.000000</td>\n",
              "      <td>Phil</td>\n",
              "      <td>Catherine</td>\n",
              "    </tr>\n",
              "    <tr>\n",
              "      <th>4</th>\n",
              "      <td>60</td>\n",
              "      <td>2022-03-16</td>\n",
              "      <td>Male</td>\n",
              "      <td>149.000000</td>\n",
              "      <td>61.000000</td>\n",
              "      <td>90</td>\n",
              "      <td>112</td>\n",
              "      <td>288.085714</td>\n",
              "      <td>Vince</td>\n",
              "      <td>Catherine</td>\n",
              "    </tr>\n",
              "    <tr>\n",
              "      <th>5</th>\n",
              "      <td>60</td>\n",
              "      <td>2022-03-16</td>\n",
              "      <td>Male</td>\n",
              "      <td>189.000000</td>\n",
              "      <td>104.000000</td>\n",
              "      <td>103</td>\n",
              "      <td>123</td>\n",
              "      <td>323.000000</td>\n",
              "      <td>Akshaya</td>\n",
              "      <td>Jony</td>\n",
              "    </tr>\n",
              "    <tr>\n",
              "      <th>6</th>\n",
              "      <td>60</td>\n",
              "      <td>2022-03-16</td>\n",
              "      <td>Male</td>\n",
              "      <td>147.000000</td>\n",
              "      <td>86.071429</td>\n",
              "      <td>97</td>\n",
              "      <td>125</td>\n",
              "      <td>243.000000</td>\n",
              "      <td>Ajay</td>\n",
              "      <td>Jony</td>\n",
              "    </tr>\n",
              "    <tr>\n",
              "      <th>7</th>\n",
              "      <td>60</td>\n",
              "      <td>2022-03-16</td>\n",
              "      <td>Male</td>\n",
              "      <td>172.928571</td>\n",
              "      <td>101.000000</td>\n",
              "      <td>108</td>\n",
              "      <td>131</td>\n",
              "      <td>364.200000</td>\n",
              "      <td>Jay</td>\n",
              "      <td>Jony</td>\n",
              "    </tr>\n",
              "    <tr>\n",
              "      <th>8</th>\n",
              "      <td>45</td>\n",
              "      <td>2022-03-16</td>\n",
              "      <td>Female</td>\n",
              "      <td>174.000000</td>\n",
              "      <td>90.000000</td>\n",
              "      <td>100</td>\n",
              "      <td>119</td>\n",
              "      <td>282.000000</td>\n",
              "      <td>Shyam</td>\n",
              "      <td>Catherine</td>\n",
              "    </tr>\n",
              "    <tr>\n",
              "      <th>9</th>\n",
              "      <td>50</td>\n",
              "      <td>2022-03-16</td>\n",
              "      <td>Male</td>\n",
              "      <td>169.000000</td>\n",
              "      <td>86.071429</td>\n",
              "      <td>130</td>\n",
              "      <td>101</td>\n",
              "      <td>300.000000</td>\n",
              "      <td>Neha</td>\n",
              "      <td>Catherine</td>\n",
              "    </tr>\n",
              "    <tr>\n",
              "      <th>10</th>\n",
              "      <td>45</td>\n",
              "      <td>2022-03-16</td>\n",
              "      <td>Female</td>\n",
              "      <td>172.928571</td>\n",
              "      <td>81.000000</td>\n",
              "      <td>105</td>\n",
              "      <td>132</td>\n",
              "      <td>246.000000</td>\n",
              "      <td>Mehru</td>\n",
              "      <td>Catherine</td>\n",
              "    </tr>\n",
              "    <tr>\n",
              "      <th>11</th>\n",
              "      <td>60</td>\n",
              "      <td>2022-03-16</td>\n",
              "      <td>Female</td>\n",
              "      <td>159.000000</td>\n",
              "      <td>80.000000</td>\n",
              "      <td>102</td>\n",
              "      <td>126</td>\n",
              "      <td>334.500000</td>\n",
              "      <td>Dipa</td>\n",
              "      <td>Catherine</td>\n",
              "    </tr>\n",
              "    <tr>\n",
              "      <th>12</th>\n",
              "      <td>45</td>\n",
              "      <td>2022-03-16</td>\n",
              "      <td>Male</td>\n",
              "      <td>192.000000</td>\n",
              "      <td>91.000000</td>\n",
              "      <td>100</td>\n",
              "      <td>120</td>\n",
              "      <td>250.000000</td>\n",
              "      <td>Jim</td>\n",
              "      <td>Jony</td>\n",
              "    </tr>\n",
              "    <tr>\n",
              "      <th>13</th>\n",
              "      <td>45</td>\n",
              "      <td>2022-03-16</td>\n",
              "      <td>Male</td>\n",
              "      <td>155.000000</td>\n",
              "      <td>51.000000</td>\n",
              "      <td>92</td>\n",
              "      <td>118</td>\n",
              "      <td>241.000000</td>\n",
              "      <td>Divya</td>\n",
              "      <td>Catherine</td>\n",
              "    </tr>\n",
              "    <tr>\n",
              "      <th>14</th>\n",
              "      <td>50</td>\n",
              "      <td>2022-03-16</td>\n",
              "      <td>Female</td>\n",
              "      <td>191.000000</td>\n",
              "      <td>79.000000</td>\n",
              "      <td>103</td>\n",
              "      <td>132</td>\n",
              "      <td>288.085714</td>\n",
              "      <td>Liya</td>\n",
              "      <td>Catherine</td>\n",
              "    </tr>\n",
              "    <tr>\n",
              "      <th>15</th>\n",
              "      <td>60</td>\n",
              "      <td>2022-03-16</td>\n",
              "      <td>Male</td>\n",
              "      <td>153.000000</td>\n",
              "      <td>70.000000</td>\n",
              "      <td>97</td>\n",
              "      <td>132</td>\n",
              "      <td>280.000000</td>\n",
              "      <td>Jack</td>\n",
              "      <td>Jony</td>\n",
              "    </tr>\n",
              "  </tbody>\n",
              "</table>\n",
              "</div>\n",
              "      <button class=\"colab-df-convert\" onclick=\"convertToInteractive('df-539c0e72-9564-46f0-ac6f-b60ead85820a')\"\n",
              "              title=\"Convert this dataframe to an interactive table.\"\n",
              "              style=\"display:none;\">\n",
              "        \n",
              "  <svg xmlns=\"http://www.w3.org/2000/svg\" height=\"24px\"viewBox=\"0 0 24 24\"\n",
              "       width=\"24px\">\n",
              "    <path d=\"M0 0h24v24H0V0z\" fill=\"none\"/>\n",
              "    <path d=\"M18.56 5.44l.94 2.06.94-2.06 2.06-.94-2.06-.94-.94-2.06-.94 2.06-2.06.94zm-11 1L8.5 8.5l.94-2.06 2.06-.94-2.06-.94L8.5 2.5l-.94 2.06-2.06.94zm10 10l.94 2.06.94-2.06 2.06-.94-2.06-.94-.94-2.06-.94 2.06-2.06.94z\"/><path d=\"M17.41 7.96l-1.37-1.37c-.4-.4-.92-.59-1.43-.59-.52 0-1.04.2-1.43.59L10.3 9.45l-7.72 7.72c-.78.78-.78 2.05 0 2.83L4 21.41c.39.39.9.59 1.41.59.51 0 1.02-.2 1.41-.59l7.78-7.78 2.81-2.81c.8-.78.8-2.07 0-2.86zM5.41 20L4 18.59l7.72-7.72 1.47 1.35L5.41 20z\"/>\n",
              "  </svg>\n",
              "      </button>\n",
              "      \n",
              "  <style>\n",
              "    .colab-df-container {\n",
              "      display:flex;\n",
              "      flex-wrap:wrap;\n",
              "      gap: 12px;\n",
              "    }\n",
              "\n",
              "    .colab-df-convert {\n",
              "      background-color: #E8F0FE;\n",
              "      border: none;\n",
              "      border-radius: 50%;\n",
              "      cursor: pointer;\n",
              "      display: none;\n",
              "      fill: #1967D2;\n",
              "      height: 32px;\n",
              "      padding: 0 0 0 0;\n",
              "      width: 32px;\n",
              "    }\n",
              "\n",
              "    .colab-df-convert:hover {\n",
              "      background-color: #E2EBFA;\n",
              "      box-shadow: 0px 1px 2px rgba(60, 64, 67, 0.3), 0px 1px 3px 1px rgba(60, 64, 67, 0.15);\n",
              "      fill: #174EA6;\n",
              "    }\n",
              "\n",
              "    [theme=dark] .colab-df-convert {\n",
              "      background-color: #3B4455;\n",
              "      fill: #D2E3FC;\n",
              "    }\n",
              "\n",
              "    [theme=dark] .colab-df-convert:hover {\n",
              "      background-color: #434B5C;\n",
              "      box-shadow: 0px 1px 3px 1px rgba(0, 0, 0, 0.15);\n",
              "      filter: drop-shadow(0px 1px 2px rgba(0, 0, 0, 0.3));\n",
              "      fill: #FFFFFF;\n",
              "    }\n",
              "  </style>\n",
              "\n",
              "      <script>\n",
              "        const buttonEl =\n",
              "          document.querySelector('#df-539c0e72-9564-46f0-ac6f-b60ead85820a button.colab-df-convert');\n",
              "        buttonEl.style.display =\n",
              "          google.colab.kernel.accessAllowed ? 'block' : 'none';\n",
              "\n",
              "        async function convertToInteractive(key) {\n",
              "          const element = document.querySelector('#df-539c0e72-9564-46f0-ac6f-b60ead85820a');\n",
              "          const dataTable =\n",
              "            await google.colab.kernel.invokeFunction('convertToInteractive',\n",
              "                                                     [key], {});\n",
              "          if (!dataTable) return;\n",
              "\n",
              "          const docLinkHtml = 'Like what you see? Visit the ' +\n",
              "            '<a target=\"_blank\" href=https://colab.research.google.com/notebooks/data_table.ipynb>data table notebook</a>'\n",
              "            + ' to learn more about interactive tables.';\n",
              "          element.innerHTML = '';\n",
              "          dataTable['output_type'] = 'display_data';\n",
              "          await google.colab.output.renderOutput(dataTable, element);\n",
              "          const docLink = document.createElement('div');\n",
              "          docLink.innerHTML = docLinkHtml;\n",
              "          element.appendChild(docLink);\n",
              "        }\n",
              "      </script>\n",
              "    </div>\n",
              "  </div>\n",
              "  "
            ]
          },
          "metadata": {},
          "execution_count": 177
        }
      ]
    },
    {
      "cell_type": "markdown",
      "source": [
        "# Nominal Analysis"
      ],
      "metadata": {
        "id": "QdzDxAxWli10"
      }
    },
    {
      "cell_type": "code",
      "source": [
        "import seaborn as sns\n",
        "import matplotlib.pyplot as plt"
      ],
      "metadata": {
        "id": "I-ic7UTjmSTs"
      },
      "execution_count": 178,
      "outputs": []
    },
    {
      "cell_type": "code",
      "source": [
        "data['Doctor'].value_counts() "
      ],
      "metadata": {
        "colab": {
          "base_uri": "https://localhost:8080/"
        },
        "id": "vL6SLdQZKvpz",
        "outputId": "e98deea7-689d-4b35-fc7b-f723d6198fb1"
      },
      "execution_count": 179,
      "outputs": [
        {
          "output_type": "execute_result",
          "data": {
            "text/plain": [
              " Catherine    11\n",
              " Jony          5\n",
              "Name: Doctor, dtype: int64"
            ]
          },
          "metadata": {},
          "execution_count": 179
        }
      ]
    },
    {
      "cell_type": "code",
      "source": [
        "sns.countplot(x='Doctor',data=data)"
      ],
      "metadata": {
        "colab": {
          "base_uri": "https://localhost:8080/",
          "height": 297
        },
        "id": "0uxcv563mWUr",
        "outputId": "cf81739d-5fde-43be-c294-bdc4a85558c7"
      },
      "execution_count": 180,
      "outputs": [
        {
          "output_type": "execute_result",
          "data": {
            "text/plain": [
              "<matplotlib.axes._subplots.AxesSubplot at 0x7fb2b942fb50>"
            ]
          },
          "metadata": {},
          "execution_count": 180
        },
        {
          "output_type": "display_data",
          "data": {
            "text/plain": [
              "<Figure size 432x288 with 1 Axes>"
            ],
            "image/png": "[encoded data removed]"
          },
          "metadata": {
            "needs_background": "light"
          }
        }
      ]
    },
    {
      "cell_type": "markdown",
      "source": [
        "Catherine Doctor treated more patients than Jony Doctor."
      ],
      "metadata": {
        "id": "1s5M53iLByZV"
      }
    },
    {
      "cell_type": "code",
      "source": [
        "sns.countplot(x='Gender',data=data)"
      ],
      "metadata": {
        "colab": {
          "base_uri": "https://localhost:8080/",
          "height": 297
        },
        "id": "ctznfRJVmw6L",
        "outputId": "3c7bc7b8-1593-4745-eae7-a3529c4d5082"
      },
      "execution_count": 181,
      "outputs": [
        {
          "output_type": "execute_result",
          "data": {
            "text/plain": [
              "<matplotlib.axes._subplots.AxesSubplot at 0x7fb2b9469fd0>"
            ]
          },
          "metadata": {},
          "execution_count": 181
        },
        {
          "output_type": "display_data",
          "data": {
            "text/plain": [
              "<Figure size 432x288 with 1 Axes>"
            ],
            "image/png": "[encoded data removed]"
          },
          "metadata": {
            "needs_background": "light"
          }
        }
      ]
    },
    {
      "cell_type": "markdown",
      "source": [
        "There are more Male patients than Female."
      ],
      "metadata": {
        "id": "M2zFu6joCAts"
      }
    },
    {
      "cell_type": "code",
      "source": [
        "sns.countplot(x='Duration',data=data)"
      ],
      "metadata": {
        "colab": {
          "base_uri": "https://localhost:8080/",
          "height": 297
        },
        "id": "YJoChCwym3J3",
        "outputId": "d58e8ee2-b3c1-48b0-dcbe-c4388f27c50d"
      },
      "execution_count": 182,
      "outputs": [
        {
          "output_type": "execute_result",
          "data": {
            "text/plain": [
              "<matplotlib.axes._subplots.AxesSubplot at 0x7fb2b94161d0>"
            ]
          },
          "metadata": {},
          "execution_count": 182
        },
        {
          "output_type": "display_data",
          "data": {
            "text/plain": [
              "<Figure size 432x288 with 1 Axes>"
            ],
            "image/png": "[encoded data removed]"
          },
          "metadata": {
            "needs_background": "light"
          }
        }
      ]
    },
    {
      "cell_type": "code",
      "source": [
        "sns.countplot(x='Doctor',hue='Gender',data=data)"
      ],
      "metadata": {
        "colab": {
          "base_uri": "https://localhost:8080/",
          "height": 297
        },
        "id": "PH0k1vPVm-4x",
        "outputId": "94c43c77-fc5c-4cac-940e-65ac870853df"
      },
      "execution_count": 183,
      "outputs": [
        {
          "output_type": "execute_result",
          "data": {
            "text/plain": [
              "<matplotlib.axes._subplots.AxesSubplot at 0x7fb2ba11cd10>"
            ]
          },
          "metadata": {},
          "execution_count": 183
        },
        {
          "output_type": "display_data",
          "data": {
            "text/plain": [
              "<Figure size 432x288 with 1 Axes>"
            ],
            "image/png": "[encoded data removed]"
          },
          "metadata": {
            "needs_background": "light"
          }
        }
      ]
    },
    {
      "cell_type": "markdown",
      "source": [
        "Catherine Doctor treated both Female and Male patients .Jony Doctor treated only Male patients."
      ],
      "metadata": {
        "id": "7hvxXSjSCdiv"
      }
    },
    {
      "cell_type": "code",
      "source": [
        "sns.countplot(x='Gender',hue='Duration',data=data)"
      ],
      "metadata": {
        "colab": {
          "base_uri": "https://localhost:8080/",
          "height": 297
        },
        "id": "zV-nFj2znkAK",
        "outputId": "8fa1fb1d-86fe-4c64-de7d-7985eb63df57"
      },
      "execution_count": 184,
      "outputs": [
        {
          "output_type": "execute_result",
          "data": {
            "text/plain": [
              "<matplotlib.axes._subplots.AxesSubplot at 0x7fb2ba095dd0>"
            ]
          },
          "metadata": {},
          "execution_count": 184
        },
        {
          "output_type": "display_data",
          "data": {
            "text/plain": [
              "<Figure size 432x288 with 1 Axes>"
            ],
            "image/png": "[encoded data removed]"
          },
          "metadata": {
            "needs_background": "light"
          }
        }
      ]
    },
    {
      "cell_type": "code",
      "source": [
        "sns.countplot(x='Doctor',hue='Duration',data=data)"
      ],
      "metadata": {
        "colab": {
          "base_uri": "https://localhost:8080/",
          "height": 297
        },
        "id": "Ntkv3tKVn8jb",
        "outputId": "8c198cb4-2161-40ba-e266-a4ad280fd036"
      },
      "execution_count": 185,
      "outputs": [
        {
          "output_type": "execute_result",
          "data": {
            "text/plain": [
              "<matplotlib.axes._subplots.AxesSubplot at 0x7fb2b930cc10>"
            ]
          },
          "metadata": {},
          "execution_count": 185
        },
        {
          "output_type": "display_data",
          "data": {
            "text/plain": [
              "<Figure size 432x288 with 1 Axes>"
            ],
            "image/png": "[encoded data removed]"
          },
          "metadata": {
            "needs_background": "light"
          }
        }
      ]
    },
    {
      "cell_type": "code",
      "source": [
        "sns.barplot(x='Gender',y='Height',data=data)"
      ],
      "metadata": {
        "colab": {
          "base_uri": "https://localhost:8080/",
          "height": 297
        },
        "id": "HU4uv0lUoMzz",
        "outputId": "152b8844-b9f4-4ffa-abdf-6c03de49a726"
      },
      "execution_count": 186,
      "outputs": [
        {
          "output_type": "execute_result",
          "data": {
            "text/plain": [
              "<matplotlib.axes._subplots.AxesSubplot at 0x7fb2b9274a10>"
            ]
          },
          "metadata": {},
          "execution_count": 186
        },
        {
          "output_type": "display_data",
          "data": {
            "text/plain": [
              "<Figure size 432x288 with 1 Axes>"
            ],
            "image/png": "[encoded data removed]"
          },
          "metadata": {
            "needs_background": "light"
          }
        }
      ]
    },
    {
      "cell_type": "code",
      "source": [
        "sns.barplot(x='Gender',y='Weight',data=data)"
      ],
      "metadata": {
        "colab": {
          "base_uri": "https://localhost:8080/",
          "height": 297
        },
        "id": "ob7W3E3DyVSm",
        "outputId": "39603525-aebd-4892-97fb-af53aaee9549"
      },
      "execution_count": 187,
      "outputs": [
        {
          "output_type": "execute_result",
          "data": {
            "text/plain": [
              "<matplotlib.axes._subplots.AxesSubplot at 0x7fb2b91e8a50>"
            ]
          },
          "metadata": {},
          "execution_count": 187
        },
        {
          "output_type": "display_data",
          "data": {
            "text/plain": [
              "<Figure size 432x288 with 1 Axes>"
            ],
            "image/png": "[encoded data removed]"
          },
          "metadata": {
            "needs_background": "light"
          }
        }
      ]
    },
    {
      "cell_type": "code",
      "source": [
        "sns.barplot(x='Gender',y='Pulse',data=data)"
      ],
      "metadata": {
        "colab": {
          "base_uri": "https://localhost:8080/",
          "height": 297
        },
        "id": "CDc0uk4_x5zF",
        "outputId": "425cb717-6407-471c-80d9-d2c48732251e"
      },
      "execution_count": 188,
      "outputs": [
        {
          "output_type": "execute_result",
          "data": {
            "text/plain": [
              "<matplotlib.axes._subplots.AxesSubplot at 0x7fb2b91cc2d0>"
            ]
          },
          "metadata": {},
          "execution_count": 188
        },
        {
          "output_type": "display_data",
          "data": {
            "text/plain": [
              "<Figure size 432x288 with 1 Axes>"
            ],
            "image/png": "[encoded data removed]"
          },
          "metadata": {
            "needs_background": "light"
          }
        }
      ]
    },
    {
      "cell_type": "code",
      "source": [
        "sns.barplot(x='Gender',y='Maxpulse',data=data)"
      ],
      "metadata": {
        "colab": {
          "base_uri": "https://localhost:8080/",
          "height": 297
        },
        "id": "CpycrcYLyqk3",
        "outputId": "183ff8ea-29f9-44c3-fbb5-30984a15ec0a"
      },
      "execution_count": 189,
      "outputs": [
        {
          "output_type": "execute_result",
          "data": {
            "text/plain": [
              "<matplotlib.axes._subplots.AxesSubplot at 0x7fb2b912b5d0>"
            ]
          },
          "metadata": {},
          "execution_count": 189
        },
        {
          "output_type": "display_data",
          "data": {
            "text/plain": [
              "<Figure size 432x288 with 1 Axes>"
            ],
            "image/png": "[encoded data removed]"
          },
          "metadata": {
            "needs_background": "light"
          }
        }
      ]
    },
    {
      "cell_type": "code",
      "source": [
        "sns.barplot(x='Gender',y='Calories',data=data)"
      ],
      "metadata": {
        "colab": {
          "base_uri": "https://localhost:8080/",
          "height": 297
        },
        "id": "H4beQJYVzCSX",
        "outputId": "572500b0-8c75-4457-ac09-547e084a57ca"
      },
      "execution_count": 190,
      "outputs": [
        {
          "output_type": "execute_result",
          "data": {
            "text/plain": [
              "<matplotlib.axes._subplots.AxesSubplot at 0x7fb2b9113190>"
            ]
          },
          "metadata": {},
          "execution_count": 190
        },
        {
          "output_type": "display_data",
          "data": {
            "text/plain": [
              "<Figure size 432x288 with 1 Axes>"
            ],
            "image/png": "[encoded data removed]"
          },
          "metadata": {
            "needs_background": "light"
          }
        }
      ]
    },
    {
      "cell_type": "markdown",
      "source": [
        "# Continuous Analysis"
      ],
      "metadata": {
        "id": "M6pXnYxRzZPb"
      }
    },
    {
      "cell_type": "code",
      "source": [
        "data.describe()"
      ],
      "metadata": {
        "colab": {
          "base_uri": "https://localhost:8080/",
          "height": 300
        },
        "id": "qIsG42jtzwH3",
        "outputId": "cb619745-3029-48c3-ad5a-6be78e679d1b"
      },
      "execution_count": 191,
      "outputs": [
        {
          "output_type": "execute_result",
          "data": {
            "text/plain": [
              "        Duration      Height      Weight       Pulse    Maxpulse    Calories\n",
              "count  16.000000   16.000000   16.000000   16.000000   16.000000   16.000000\n",
              "mean   54.375000  172.928571   86.071429  101.687500  122.875000  288.085714\n",
              "std     6.800735   16.360376   15.930952    8.837185    8.460693   45.334400\n",
              "min    45.000000  147.000000   51.000000   90.000000  101.000000  215.200000\n",
              "25%    48.750000  158.000000   79.750000   97.750000  119.750000  249.000000\n",
              "50%    60.000000  173.464286   86.535714  100.000000  123.000000  285.042857\n",
              "75%    60.000000  189.000000   97.250000  103.250000  131.250000  305.750000\n",
              "max    60.000000  195.000000  110.000000  130.000000  132.000000  379.300000"
            ],
            "text/html": [
              "\n",
              "  <div id=\"df-1219c081-7e37-44f4-85f5-d0c596d35fde\">\n",
              "    <div class=\"colab-df-container\">\n",
              "      <div>\n",
              "<style scoped>\n",
              "    .dataframe tbody tr th:only-of-type {\n",
              "        vertical-align: middle;\n",
              "    }\n",
              "\n",
              "    .dataframe tbody tr th {\n",
              "        vertical-align: top;\n",
              "    }\n",
              "\n",
              "    .dataframe thead th {\n",
              "        text-align: right;\n",
              "    }\n",
              "</style>\n",
              "<table border=\"1\" class=\"dataframe\">\n",
              "  <thead>\n",
              "    <tr style=\"text-align: right;\">\n",
              "      <th></th>\n",
              "      <th>Duration</th>\n",
              "      <th>Height</th>\n",
              "      <th>Weight</th>\n",
              "      <th>Pulse</th>\n",
              "      <th>Maxpulse</th>\n",
              "      <th>Calories</th>\n",
              "    </tr>\n",
              "  </thead>\n",
              "  <tbody>\n",
              "    <tr>\n",
              "      <th>count</th>\n",
              "      <td>16.000000</td>\n",
              "      <td>16.000000</td>\n",
              "      <td>16.000000</td>\n",
              "      <td>16.000000</td>\n",
              "      <td>16.000000</td>\n",
              "      <td>16.000000</td>\n",
              "    </tr>\n",
              "    <tr>\n",
              "      <th>mean</th>\n",
              "      <td>54.375000</td>\n",
              "      <td>172.928571</td>\n",
              "      <td>86.071429</td>\n",
              "      <td>101.687500</td>\n",
              "      <td>122.875000</td>\n",
              "      <td>288.085714</td>\n",
              "    </tr>\n",
              "    <tr>\n",
              "      <th>std</th>\n",
              "      <td>6.800735</td>\n",
              "      <td>16.360376</td>\n",
              "      <td>15.930952</td>\n",
              "      <td>8.837185</td>\n",
              "      <td>8.460693</td>\n",
              "      <td>45.334400</td>\n",
              "    </tr>\n",
              "    <tr>\n",
              "      <th>min</th>\n",
              "      <td>45.000000</td>\n",
              "      <td>147.000000</td>\n",
              "      <td>51.000000</td>\n",
              "      <td>90.000000</td>\n",
              "      <td>101.000000</td>\n",
              "      <td>215.200000</td>\n",
              "    </tr>\n",
              "    <tr>\n",
              "      <th>25%</th>\n",
              "      <td>48.750000</td>\n",
              "      <td>158.000000</td>\n",
              "      <td>79.750000</td>\n",
              "      <td>97.750000</td>\n",
              "      <td>119.750000</td>\n",
              "      <td>249.000000</td>\n",
              "    </tr>\n",
              "    <tr>\n",
              "      <th>50%</th>\n",
              "      <td>60.000000</td>\n",
              "      <td>173.464286</td>\n",
              "      <td>86.535714</td>\n",
              "      <td>100.000000</td>\n",
              "      <td>123.000000</td>\n",
              "      <td>285.042857</td>\n",
              "    </tr>\n",
              "    <tr>\n",
              "      <th>75%</th>\n",
              "      <td>60.000000</td>\n",
              "      <td>189.000000</td>\n",
              "      <td>97.250000</td>\n",
              "      <td>103.250000</td>\n",
              "      <td>131.250000</td>\n",
              "      <td>305.750000</td>\n",
              "    </tr>\n",
              "    <tr>\n",
              "      <th>max</th>\n",
              "      <td>60.000000</td>\n",
              "      <td>195.000000</td>\n",
              "      <td>110.000000</td>\n",
              "      <td>130.000000</td>\n",
              "      <td>132.000000</td>\n",
              "      <td>379.300000</td>\n",
              "    </tr>\n",
              "  </tbody>\n",
              "</table>\n",
              "</div>\n",
              "      <button class=\"colab-df-convert\" onclick=\"convertToInteractive('df-1219c081-7e37-44f4-85f5-d0c596d35fde')\"\n",
              "              title=\"Convert this dataframe to an interactive table.\"\n",
              "              style=\"display:none;\">\n",
              "        \n",
              "  <svg xmlns=\"http://www.w3.org/2000/svg\" height=\"24px\"viewBox=\"0 0 24 24\"\n",
              "       width=\"24px\">\n",
              "    <path d=\"M0 0h24v24H0V0z\" fill=\"none\"/>\n",
              "    <path d=\"M18.56 5.44l.94 2.06.94-2.06 2.06-.94-2.06-.94-.94-2.06-.94 2.06-2.06.94zm-11 1L8.5 8.5l.94-2.06 2.06-.94-2.06-.94L8.5 2.5l-.94 2.06-2.06.94zm10 10l.94 2.06.94-2.06 2.06-.94-2.06-.94-.94-2.06-.94 2.06-2.06.94z\"/><path d=\"M17.41 7.96l-1.37-1.37c-.4-.4-.92-.59-1.43-.59-.52 0-1.04.2-1.43.59L10.3 9.45l-7.72 7.72c-.78.78-.78 2.05 0 2.83L4 21.41c.39.39.9.59 1.41.59.51 0 1.02-.2 1.41-.59l7.78-7.78 2.81-2.81c.8-.78.8-2.07 0-2.86zM5.41 20L4 18.59l7.72-7.72 1.47 1.35L5.41 20z\"/>\n",
              "  </svg>\n",
              "      </button>\n",
              "      \n",
              "  <style>\n",
              "    .colab-df-container {\n",
              "      display:flex;\n",
              "      flex-wrap:wrap;\n",
              "      gap: 12px;\n",
              "    }\n",
              "\n",
              "    .colab-df-convert {\n",
              "      background-color: #E8F0FE;\n",
              "      border: none;\n",
              "      border-radius: 50%;\n",
              "      cursor: pointer;\n",
              "      display: none;\n",
              "      fill: #1967D2;\n",
              "      height: 32px;\n",
              "      padding: 0 0 0 0;\n",
              "      width: 32px;\n",
              "    }\n",
              "\n",
              "    .colab-df-convert:hover {\n",
              "      background-color: #E2EBFA;\n",
              "      box-shadow: 0px 1px 2px rgba(60, 64, 67, 0.3), 0px 1px 3px 1px rgba(60, 64, 67, 0.15);\n",
              "      fill: #174EA6;\n",
              "    }\n",
              "\n",
              "    [theme=dark] .colab-df-convert {\n",
              "      background-color: #3B4455;\n",
              "      fill: #D2E3FC;\n",
              "    }\n",
              "\n",
              "    [theme=dark] .colab-df-convert:hover {\n",
              "      background-color: #434B5C;\n",
              "      box-shadow: 0px 1px 3px 1px rgba(0, 0, 0, 0.15);\n",
              "      filter: drop-shadow(0px 1px 2px rgba(0, 0, 0, 0.3));\n",
              "      fill: #FFFFFF;\n",
              "    }\n",
              "  </style>\n",
              "\n",
              "      <script>\n",
              "        const buttonEl =\n",
              "          document.querySelector('#df-1219c081-7e37-44f4-85f5-d0c596d35fde button.colab-df-convert');\n",
              "        buttonEl.style.display =\n",
              "          google.colab.kernel.accessAllowed ? 'block' : 'none';\n",
              "\n",
              "        async function convertToInteractive(key) {\n",
              "          const element = document.querySelector('#df-1219c081-7e37-44f4-85f5-d0c596d35fde');\n",
              "          const dataTable =\n",
              "            await google.colab.kernel.invokeFunction('convertToInteractive',\n",
              "                                                     [key], {});\n",
              "          if (!dataTable) return;\n",
              "\n",
              "          const docLinkHtml = 'Like what you see? Visit the ' +\n",
              "            '<a target=\"_blank\" href=https://colab.research.google.com/notebooks/data_table.ipynb>data table notebook</a>'\n",
              "            + ' to learn more about interactive tables.';\n",
              "          element.innerHTML = '';\n",
              "          dataTable['output_type'] = 'display_data';\n",
              "          await google.colab.output.renderOutput(dataTable, element);\n",
              "          const docLink = document.createElement('div');\n",
              "          docLink.innerHTML = docLinkHtml;\n",
              "          element.appendChild(docLink);\n",
              "        }\n",
              "      </script>\n",
              "    </div>\n",
              "  </div>\n",
              "  "
            ]
          },
          "metadata": {},
          "execution_count": 191
        }
      ]
    },
    {
      "cell_type": "code",
      "source": [
        "data['Height'].plot.hist()"
      ],
      "metadata": {
        "colab": {
          "base_uri": "https://localhost:8080/",
          "height": 283
        },
        "id": "zZsj9ZJq0ke0",
        "outputId": "0e66d3f3-2453-4088-9bb3-066e740a0d61"
      },
      "execution_count": 192,
      "outputs": [
        {
          "output_type": "execute_result",
          "data": {
            "text/plain": [
              "<matplotlib.axes._subplots.AxesSubplot at 0x7fb2b9072610>"
            ]
          },
          "metadata": {},
          "execution_count": 192
        },
        {
          "output_type": "display_data",
          "data": {
            "text/plain": [
              "<Figure size 432x288 with 1 Axes>"
            ],
            "image/png": "[encoded data removed]"
          },
          "metadata": {
            "needs_background": "light"
          }
        }
      ]
    },
    {
      "cell_type": "code",
      "source": [
        "sns.boxplot(y=data['Height'])"
      ],
      "metadata": {
        "colab": {
          "base_uri": "https://localhost:8080/",
          "height": 270
        },
        "id": "AZYdcFbG0zCd",
        "outputId": "3ff7f6dc-8e79-4da4-dc3a-0edc717e99cb"
      },
      "execution_count": 193,
      "outputs": [
        {
          "output_type": "execute_result",
          "data": {
            "text/plain": [
              "<matplotlib.axes._subplots.AxesSubplot at 0x7fb2b9012890>"
            ]
          },
          "metadata": {},
          "execution_count": 193
        },
        {
          "output_type": "display_data",
          "data": {
            "text/plain": [
              "<Figure size 432x288 with 1 Axes>"
            ],
            "image/png": "[encoded data removed]"
          },
          "metadata": {
            "needs_background": "light"
          }
        }
      ]
    },
    {
      "cell_type": "markdown",
      "source": [
        "There are no outliers in Height."
      ],
      "metadata": {
        "id": "mRh7DxXfEMxk"
      }
    },
    {
      "cell_type": "code",
      "source": [
        "data['Weight'].plot.hist()"
      ],
      "metadata": {
        "colab": {
          "base_uri": "https://localhost:8080/",
          "height": 283
        },
        "outputId": "2250489c-62f7-4645-8de6-a5e3ed84ba6b",
        "id": "tUkOymzD1EyT"
      },
      "execution_count": 194,
      "outputs": [
        {
          "output_type": "execute_result",
          "data": {
            "text/plain": [
              "<matplotlib.axes._subplots.AxesSubplot at 0x7fb2b8f774d0>"
            ]
          },
          "metadata": {},
          "execution_count": 194
        },
        {
          "output_type": "display_data",
          "data": {
            "text/plain": [
              "<Figure size 432x288 with 1 Axes>"
            ],
            "image/png": "[encoded data removed]"
          },
          "metadata": {
            "needs_background": "light"
          }
        }
      ]
    },
    {
      "cell_type": "code",
      "source": [
        "sns.boxplot(y=data['Weight'])"
      ],
      "metadata": {
        "colab": {
          "base_uri": "https://localhost:8080/",
          "height": 270
        },
        "outputId": "bc626a1b-a6d2-400e-cc1a-b30ae609f40e",
        "id": "69DdM_Sg1EyU"
      },
      "execution_count": 195,
      "outputs": [
        {
          "output_type": "execute_result",
          "data": {
            "text/plain": [
              "<matplotlib.axes._subplots.AxesSubplot at 0x7fb2b8efe250>"
            ]
          },
          "metadata": {},
          "execution_count": 195
        },
        {
          "output_type": "display_data",
          "data": {
            "text/plain": [
              "<Figure size 432x288 with 1 Axes>"
            ],
            "image/png": "[encoded data removed]"
          },
          "metadata": {
            "needs_background": "light"
          }
        }
      ]
    },
    {
      "cell_type": "markdown",
      "source": [
        "There is one outlier in Weight.\n"
      ],
      "metadata": {
        "id": "hsVnM25pEYUU"
      }
    },
    {
      "cell_type": "code",
      "source": [
        "sns.boxplot(y='Calories',data=data,x='Gender')"
      ],
      "metadata": {
        "colab": {
          "base_uri": "https://localhost:8080/",
          "height": 297
        },
        "id": "rp1UMJQW2IDQ",
        "outputId": "4a28fa2e-ebd0-4b5c-9ae4-118451b5ce2f"
      },
      "execution_count": 196,
      "outputs": [
        {
          "output_type": "execute_result",
          "data": {
            "text/plain": [
              "<matplotlib.axes._subplots.AxesSubplot at 0x7fb2b9da1d90>"
            ]
          },
          "metadata": {},
          "execution_count": 196
        },
        {
          "output_type": "display_data",
          "data": {
            "text/plain": [
              "<Figure size 432x288 with 1 Axes>"
            ],
            "image/png": "[encoded data removed]"
          },
          "metadata": {
            "needs_background": "light"
          }
        }
      ]
    },
    {
      "cell_type": "code",
      "source": [
        "sns.boxplot(y='Height',data=data,x='Gender')"
      ],
      "metadata": {
        "colab": {
          "base_uri": "https://localhost:8080/",
          "height": 297
        },
        "id": "Iw8gsy1C2gjj",
        "outputId": "4b1d4166-fcd7-4588-b93f-eb2a68646b99"
      },
      "execution_count": 197,
      "outputs": [
        {
          "output_type": "execute_result",
          "data": {
            "text/plain": [
              "<matplotlib.axes._subplots.AxesSubplot at 0x7fb2b8debd50>"
            ]
          },
          "metadata": {},
          "execution_count": 197
        },
        {
          "output_type": "display_data",
          "data": {
            "text/plain": [
              "<Figure size 432x288 with 1 Axes>"
            ],
            "image/png": "[encoded data removed]"
          },
          "metadata": {
            "needs_background": "light"
          }
        }
      ]
    },
    {
      "cell_type": "code",
      "source": [
        "sns.boxplot(y='Weight',data=data,x='Gender')"
      ],
      "metadata": {
        "colab": {
          "base_uri": "https://localhost:8080/",
          "height": 297
        },
        "id": "kOwPB32m3ATu",
        "outputId": "90115661-91a0-46b8-b6c6-f2948fb00210"
      },
      "execution_count": 198,
      "outputs": [
        {
          "output_type": "execute_result",
          "data": {
            "text/plain": [
              "<matplotlib.axes._subplots.AxesSubplot at 0x7fb2b8d6ad50>"
            ]
          },
          "metadata": {},
          "execution_count": 198
        },
        {
          "output_type": "display_data",
          "data": {
            "text/plain": [
              "<Figure size 432x288 with 1 Axes>"
            ],
            "image/png": "[encoded data removed]"
          },
          "metadata": {
            "needs_background": "light"
          }
        }
      ]
    },
    {
      "cell_type": "code",
      "source": [
        "sns.boxplot(y='Pulse',data=data,x='Gender')"
      ],
      "metadata": {
        "colab": {
          "base_uri": "https://localhost:8080/",
          "height": 297
        },
        "id": "iy4LWMHH3s14",
        "outputId": "46c0167e-134c-46b7-d38c-1274eb9a7791"
      },
      "execution_count": 199,
      "outputs": [
        {
          "output_type": "execute_result",
          "data": {
            "text/plain": [
              "<matplotlib.axes._subplots.AxesSubplot at 0x7fb2b8ced6d0>"
            ]
          },
          "metadata": {},
          "execution_count": 199
        },
        {
          "output_type": "display_data",
          "data": {
            "text/plain": [
              "<Figure size 432x288 with 1 Axes>"
            ],
            "image/png": "[encoded data removed]"
          },
          "metadata": {
            "needs_background": "light"
          }
        }
      ]
    },
    {
      "cell_type": "code",
      "source": [
        "sns.boxplot(y='Maxpulse',data=data,x='Gender')"
      ],
      "metadata": {
        "colab": {
          "base_uri": "https://localhost:8080/",
          "height": 297
        },
        "id": "vPz4eOnB36-D",
        "outputId": "1e85f588-ab30-4ede-e59d-6f3435294ec6"
      },
      "execution_count": 200,
      "outputs": [
        {
          "output_type": "execute_result",
          "data": {
            "text/plain": [
              "<matplotlib.axes._subplots.AxesSubplot at 0x7fb2b8c80c10>"
            ]
          },
          "metadata": {},
          "execution_count": 200
        },
        {
          "output_type": "display_data",
          "data": {
            "text/plain": [
              "<Figure size 432x288 with 1 Axes>"
            ],
            "image/png": "[encoded data removed]"
          },
          "metadata": {
            "needs_background": "light"
          }
        }
      ]
    },
    {
      "cell_type": "code",
      "source": [
        "sns.catplot(x='Duration',y='Pulse',kind=\"box\",data=data)"
      ],
      "metadata": {
        "colab": {
          "base_uri": "https://localhost:8080/",
          "height": 387
        },
        "id": "AacKhgAK4NWb",
        "outputId": "ef8d8fe7-f816-4890-b9e1-a2b44402598a"
      },
      "execution_count": 201,
      "outputs": [
        {
          "output_type": "execute_result",
          "data": {
            "text/plain": [
              "<seaborn.axisgrid.FacetGrid at 0x7fb2b8d57490>"
            ]
          },
          "metadata": {},
          "execution_count": 201
        },
        {
          "output_type": "display_data",
          "data": {
            "text/plain": [
              "<Figure size 360x360 with 1 Axes>"
            ],
            "image/png": "[encoded data removed]"
          },
          "metadata": {
            "needs_background": "light"
          }
        }
      ]
    },
    {
      "cell_type": "code",
      "source": [
        "sns.catplot(x='Duration',y='Weight',kind=\"box\",data=data)"
      ],
      "metadata": {
        "colab": {
          "base_uri": "https://localhost:8080/",
          "height": 387
        },
        "id": "fN4EWtsm5Bzi",
        "outputId": "4f8c46af-7f9c-49dc-b744-6972c679e1ba"
      },
      "execution_count": 202,
      "outputs": [
        {
          "output_type": "execute_result",
          "data": {
            "text/plain": [
              "<seaborn.axisgrid.FacetGrid at 0x7fb2b8bda090>"
            ]
          },
          "metadata": {},
          "execution_count": 202
        },
        {
          "output_type": "display_data",
          "data": {
            "text/plain": [
              "<Figure size 360x360 with 1 Axes>"
            ],
            "image/png": "[encoded data removed]"
          },
          "metadata": {
            "needs_background": "light"
          }
        }
      ]
    },
    {
      "cell_type": "code",
      "source": [
        "sns.catplot(x='Duration',y='Height',kind=\"box\",data=data)"
      ],
      "metadata": {
        "colab": {
          "base_uri": "https://localhost:8080/",
          "height": 387
        },
        "id": "IpxdmFn55Np1",
        "outputId": "01803d86-e71d-49e5-c7be-eb5b854be3d1"
      },
      "execution_count": 203,
      "outputs": [
        {
          "output_type": "execute_result",
          "data": {
            "text/plain": [
              "<seaborn.axisgrid.FacetGrid at 0x7fb2b8b65890>"
            ]
          },
          "metadata": {},
          "execution_count": 203
        },
        {
          "output_type": "display_data",
          "data": {
            "text/plain": [
              "<Figure size 360x360 with 1 Axes>"
            ],
            "image/png": "[encoded data removed]"
          },
          "metadata": {
            "needs_background": "light"
          }
        }
      ]
    },
    {
      "cell_type": "code",
      "source": [
        "sns.catplot(x='Duration',y='Height',kind=\"violin\",data=data)"
      ],
      "metadata": {
        "colab": {
          "base_uri": "https://localhost:8080/",
          "height": 387
        },
        "id": "vN-zna9qOJnw",
        "outputId": "7e269af2-bbaa-4289-de42-96294d0e05f6"
      },
      "execution_count": 204,
      "outputs": [
        {
          "output_type": "execute_result",
          "data": {
            "text/plain": [
              "<seaborn.axisgrid.FacetGrid at 0x7fb2b8a30290>"
            ]
          },
          "metadata": {},
          "execution_count": 204
        },
        {
          "output_type": "display_data",
          "data": {
            "text/plain": [
              "<Figure size 360x360 with 1 Axes>"
            ],
            "image/png": "[encoded data removed]"
          },
          "metadata": {
            "needs_background": "light"
          }
        }
      ]
    },
    {
      "cell_type": "code",
      "source": [
        "sns.catplot(x='Duration',y='Calories',kind=\"box\",data=data)"
      ],
      "metadata": {
        "colab": {
          "base_uri": "https://localhost:8080/",
          "height": 387
        },
        "id": "AyhM5O505mfd",
        "outputId": "38c1d334-1d16-4b03-9662-b5bdc4cf5ba2"
      },
      "execution_count": 205,
      "outputs": [
        {
          "output_type": "execute_result",
          "data": {
            "text/plain": [
              "<seaborn.axisgrid.FacetGrid at 0x7fb2b8b341d0>"
            ]
          },
          "metadata": {},
          "execution_count": 205
        },
        {
          "output_type": "display_data",
          "data": {
            "text/plain": [
              "<Figure size 360x360 with 1 Axes>"
            ],
            "image/png": "[encoded data removed]"
          },
          "metadata": {
            "needs_background": "light"
          }
        }
      ]
    },
    {
      "cell_type": "markdown",
      "source": [
        "# Normality testing"
      ],
      "metadata": {
        "id": "ritvBmlK6EW1"
      }
    },
    {
      "cell_type": "code",
      "source": [
        "sns.kdeplot(data['Calories'])"
      ],
      "metadata": {
        "colab": {
          "base_uri": "https://localhost:8080/",
          "height": 297
        },
        "id": "6csq7HRo6KLf",
        "outputId": "fb98ba00-9a2d-4a48-871a-cabe2feba1db"
      },
      "execution_count": 206,
      "outputs": [
        {
          "output_type": "execute_result",
          "data": {
            "text/plain": [
              "<matplotlib.axes._subplots.AxesSubplot at 0x7fb2b8918b90>"
            ]
          },
          "metadata": {},
          "execution_count": 206
        },
        {
          "output_type": "display_data",
          "data": {
            "text/plain": [
              "<Figure size 432x288 with 1 Axes>"
            ],
            "image/png": "[encoded data removed]"
          },
          "metadata": {
            "needs_background": "light"
          }
        }
      ]
    },
    {
      "cell_type": "code",
      "source": [
        "sns.kdeplot(data['Height'])"
      ],
      "metadata": {
        "colab": {
          "base_uri": "https://localhost:8080/",
          "height": 297
        },
        "id": "TzHSk3oO6TVo",
        "outputId": "aa2db92d-82f1-4a2e-8390-b8f834b5eab9"
      },
      "execution_count": 207,
      "outputs": [
        {
          "output_type": "execute_result",
          "data": {
            "text/plain": [
              "<matplotlib.axes._subplots.AxesSubplot at 0x7fb2b8afd7d0>"
            ]
          },
          "metadata": {},
          "execution_count": 207
        },
        {
          "output_type": "display_data",
          "data": {
            "text/plain": [
              "<Figure size 432x288 with 1 Axes>"
            ],
            "image/png": "[encoded data removed]"
          },
          "metadata": {
            "needs_background": "light"
          }
        }
      ]
    },
    {
      "cell_type": "code",
      "source": [
        "sns.kdeplot(data['Maxpulse'])"
      ],
      "metadata": {
        "colab": {
          "base_uri": "https://localhost:8080/",
          "height": 297
        },
        "id": "pbyHg_g76ih-",
        "outputId": "ebc3d4e2-497e-4813-ded2-ac1e69542aa1"
      },
      "execution_count": 208,
      "outputs": [
        {
          "output_type": "execute_result",
          "data": {
            "text/plain": [
              "<matplotlib.axes._subplots.AxesSubplot at 0x7fb2b880efd0>"
            ]
          },
          "metadata": {},
          "execution_count": 208
        },
        {
          "output_type": "display_data",
          "data": {
            "text/plain": [
              "<Figure size 432x288 with 1 Axes>"
            ],
            "image/png": "[encoded data removed]"
          },
          "metadata": {
            "needs_background": "light"
          }
        }
      ]
    },
    {
      "cell_type": "code",
      "source": [
        "sns.kdeplot(data['Pulse'])"
      ],
      "metadata": {
        "colab": {
          "base_uri": "https://localhost:8080/",
          "height": 297
        },
        "id": "Le5ef9j26o8H",
        "outputId": "7b1a8fc3-8335-416d-af5c-784b86644c1b"
      },
      "execution_count": 209,
      "outputs": [
        {
          "output_type": "execute_result",
          "data": {
            "text/plain": [
              "<matplotlib.axes._subplots.AxesSubplot at 0x7fb2b8776750>"
            ]
          },
          "metadata": {},
          "execution_count": 209
        },
        {
          "output_type": "display_data",
          "data": {
            "text/plain": [
              "<Figure size 432x288 with 1 Axes>"
            ],
            "image/png": "[encoded data removed]"
          },
          "metadata": {
            "needs_background": "light"
          }
        }
      ]
    },
    {
      "cell_type": "code",
      "source": [
        "sns.kdeplot(data['Weight'])"
      ],
      "metadata": {
        "colab": {
          "base_uri": "https://localhost:8080/",
          "height": 297
        },
        "id": "wJYdFESA6x4q",
        "outputId": "e5967436-f9b2-409a-85e2-d94d4ac89b2b"
      },
      "execution_count": 210,
      "outputs": [
        {
          "output_type": "execute_result",
          "data": {
            "text/plain": [
              "<matplotlib.axes._subplots.AxesSubplot at 0x7fb2b8749a50>"
            ]
          },
          "metadata": {},
          "execution_count": 210
        },
        {
          "output_type": "display_data",
          "data": {
            "text/plain": [
              "<Figure size 432x288 with 1 Axes>"
            ],
            "image/png": "[encoded data removed]"
          },
          "metadata": {
            "needs_background": "light"
          }
        }
      ]
    },
    {
      "cell_type": "code",
      "source": [
        "from scipy.stats import shapiro"
      ],
      "metadata": {
        "id": "pakZOkl764Gv"
      },
      "execution_count": 211,
      "outputs": []
    },
    {
      "cell_type": "code",
      "source": [
        "shapiro(data['Calories'])"
      ],
      "metadata": {
        "colab": {
          "base_uri": "https://localhost:8080/"
        },
        "id": "41WdwfLd6-4N",
        "outputId": "504a1fa4-f921-4911-a79f-e985f8ffda4e"
      },
      "execution_count": 212,
      "outputs": [
        {
          "output_type": "execute_result",
          "data": {
            "text/plain": [
              "(0.957967221736908, 0.6250986456871033)"
            ]
          },
          "metadata": {},
          "execution_count": 212
        }
      ]
    },
    {
      "cell_type": "markdown",
      "source": [
        "As p value of shapiro test is >0.05 Calories is normally distributed."
      ],
      "metadata": {
        "id": "SXVcJtxEHZTX"
      }
    },
    {
      "cell_type": "code",
      "source": [
        "shapiro(data['Height'])"
      ],
      "metadata": {
        "colab": {
          "base_uri": "https://localhost:8080/"
        },
        "id": "umYC5QDi7FZt",
        "outputId": "efe0f340-25d3-4e5b-e705-c8468b9e492c"
      },
      "execution_count": 213,
      "outputs": [
        {
          "output_type": "execute_result",
          "data": {
            "text/plain": [
              "(0.9153414964675903, 0.1419045329093933)"
            ]
          },
          "metadata": {},
          "execution_count": 213
        }
      ]
    },
    {
      "cell_type": "markdown",
      "source": [
        "As p value of shapiro test is >0.05 Height is normally distributed."
      ],
      "metadata": {
        "id": "U1HuTPGkHsn-"
      }
    },
    {
      "cell_type": "code",
      "source": [
        "shapiro(data['Maxpulse'])"
      ],
      "metadata": {
        "colab": {
          "base_uri": "https://localhost:8080/"
        },
        "id": "2n70kVLp7OIL",
        "outputId": "bb9c8aec-a14e-473c-8235-4731abc9229e"
      },
      "execution_count": 214,
      "outputs": [
        {
          "output_type": "execute_result",
          "data": {
            "text/plain": [
              "(0.8833227157592773, 0.04372970387339592)"
            ]
          },
          "metadata": {},
          "execution_count": 214
        }
      ]
    },
    {
      "cell_type": "markdown",
      "source": [
        "As p value of shapiro test is < 0.05 Maxpulse is not normally distributed."
      ],
      "metadata": {
        "id": "VXbouYouHxIQ"
      }
    },
    {
      "cell_type": "code",
      "source": [
        "shapiro(data['Pulse'])"
      ],
      "metadata": {
        "colab": {
          "base_uri": "https://localhost:8080/"
        },
        "id": "3K0Bg8k07UL8",
        "outputId": "ad891d75-d71a-4dbc-dc50-5355bd7e7a86"
      },
      "execution_count": 215,
      "outputs": [
        {
          "output_type": "execute_result",
          "data": {
            "text/plain": [
              "(0.7790698409080505, 0.0014553023502230644)"
            ]
          },
          "metadata": {},
          "execution_count": 215
        }
      ]
    },
    {
      "cell_type": "markdown",
      "source": [
        "As p value of shapiro test is <0.05 Pulse is not normally distributed."
      ],
      "metadata": {
        "id": "Rs74qInoH5UO"
      }
    },
    {
      "cell_type": "code",
      "source": [
        "shapiro(data['Weight'])"
      ],
      "metadata": {
        "colab": {
          "base_uri": "https://localhost:8080/"
        },
        "id": "yfJBvG1d7aSa",
        "outputId": "a45ef24a-0789-4da3-eebd-61b835eefa57"
      },
      "execution_count": 216,
      "outputs": [
        {
          "output_type": "execute_result",
          "data": {
            "text/plain": [
              "(0.9578628540039062, 0.6232298016548157)"
            ]
          },
          "metadata": {},
          "execution_count": 216
        }
      ]
    },
    {
      "cell_type": "markdown",
      "source": [
        "As p value of shapiro test is >0.05 Weight is normally distributed."
      ],
      "metadata": {
        "id": "LQTwLSP6IACb"
      }
    }
  ]
}